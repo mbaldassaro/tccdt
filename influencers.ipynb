{
 "cells": [
  {
   "cell_type": "markdown",
   "metadata": {},
   "source": [
    "### Identifying Influential Information Sources in Communities of Facebook Groups"
   ]
  },
  {
   "cell_type": "markdown",
   "metadata": {},
   "source": [
    "First, we'll import packages needed for script, add API token from the CrowdTangle dashboard you created, and add a database connection to store posts data we collect from sample groups"
   ]
  },
  {
   "cell_type": "code",
   "execution_count": 24,
   "metadata": {},
   "outputs": [],
   "source": [
    "import requests\n",
    "import json\n",
    "import pandas as pd\n",
    "import collections\n",
    "from datetime import datetime, timedelta \n",
    "import time\n",
    "import pyodbc \n",
    "from sqlalchemy import create_engine\n",
    "from urllib.parse import urlsplit #,urlparse, parse_qs \n",
    "import networkx as nx\n",
    "from networkx.algorithms import community\n",
    "import matplotlib.pyplot as plt\n",
    "\n",
    "#crowdtangle token:\n",
    "token = 'your_dashboard_token'\n",
    "\n",
    "#database connection:\n",
    "connection_string = 'your_database_connection_string'\n",
    "engine = create_engine(connection_string, encoding='utf8')\n",
    "db = engine.connect()"
   ]
  },
  {
   "cell_type": "markdown",
   "metadata": {},
   "source": [
    "Then we will create a 'get_links' function (CrowdTangle Links API wrapper) to use to get last 1,000 post shares from a 'seed' page"
   ]
  },
  {
   "cell_type": "code",
   "execution_count": 3,
   "metadata": {},
   "outputs": [],
   "source": [
    "def get_links(token, link, platforms='facebook', count=1000):\n",
    "    api_url_base = \"https://api.crowdtangle.com/links?token=\"\n",
    "    link_pre = '&link='\n",
    "    count_pre = '&count='\n",
    "    plat_pre = '&platforms='\n",
    "    api_url = format(f'{api_url_base}{token}{link_pre}{link}{plat_pre}{platforms}{count_pre}{count}')\n",
    "    response = requests.get(api_url)   \n",
    "    if response.status_code == 200:\n",
    "        return json.loads(response.content.decode('utf-8'))\n",
    "    else:\n",
    "        return None"
   ]
  },
  {
   "cell_type": "markdown",
   "metadata": {},
   "source": [
    "Then we pass the links to the 'seed' pages from which we want to grab last 1,000 post shares to the 'get_links' function. In this case, we'll just use one Facebook page for simplicity - the Facebook page of the Republican Party (facebook.com/GOP) - but you could easily use multiple pages (see: https://github.com/mbaldassaro/tccdt/blob/main/1.%20Sampling%20Facebook%20Pages%20%26%20Groups%20.ipynb)"
   ]
  },
  {
   "cell_type": "code",
   "execution_count": 4,
   "metadata": {},
   "outputs": [],
   "source": [
    "gop_snowball = get_links(token, link='facebook.com/GOP') #Republican Party "
   ]
  },
  {
   "cell_type": "markdown",
   "metadata": {},
   "source": [
    "We'll take a quick peek at the names of some of the pages and groups that were drawn in our snowball sample because they have shared content from the Republican Party Facebook page (this step can be skipped, but it may be interesting!)"
   ]
  },
  {
   "cell_type": "code",
   "execution_count": 5,
   "metadata": {},
   "outputs": [
    {
     "data": {
      "text/html": [
       "<div>\n",
       "<style scoped>\n",
       "    .dataframe tbody tr th:only-of-type {\n",
       "        vertical-align: middle;\n",
       "    }\n",
       "\n",
       "    .dataframe tbody tr th {\n",
       "        vertical-align: top;\n",
       "    }\n",
       "\n",
       "    .dataframe thead th {\n",
       "        text-align: right;\n",
       "    }\n",
       "</style>\n",
       "<table border=\"1\" class=\"dataframe\">\n",
       "  <thead>\n",
       "    <tr style=\"text-align: right;\">\n",
       "      <th></th>\n",
       "      <th>name</th>\n",
       "      <th>accountType</th>\n",
       "      <th>shares</th>\n",
       "    </tr>\n",
       "  </thead>\n",
       "  <tbody>\n",
       "    <tr>\n",
       "      <th>146</th>\n",
       "      <td>GOP</td>\n",
       "      <td>facebook_page</td>\n",
       "      <td>80</td>\n",
       "    </tr>\n",
       "    <tr>\n",
       "      <th>373</th>\n",
       "      <td>Rowan County Kentucky Republicans</td>\n",
       "      <td>facebook_page</td>\n",
       "      <td>30</td>\n",
       "    </tr>\n",
       "    <tr>\n",
       "      <th>160</th>\n",
       "      <td>Goodhue County Republicans</td>\n",
       "      <td>facebook_page</td>\n",
       "      <td>22</td>\n",
       "    </tr>\n",
       "    <tr>\n",
       "      <th>510</th>\n",
       "      <td>Yellowstone County Republican Women</td>\n",
       "      <td>facebook_group</td>\n",
       "      <td>22</td>\n",
       "    </tr>\n",
       "    <tr>\n",
       "      <th>463</th>\n",
       "      <td>Trump Nation</td>\n",
       "      <td>facebook_group</td>\n",
       "      <td>16</td>\n",
       "    </tr>\n",
       "    <tr>\n",
       "      <th>70</th>\n",
       "      <td>Cherokee County Republican Women</td>\n",
       "      <td>facebook_page</td>\n",
       "      <td>14</td>\n",
       "    </tr>\n",
       "    <tr>\n",
       "      <th>8</th>\n",
       "      <td>9th District GOP of Georgia</td>\n",
       "      <td>facebook_page</td>\n",
       "      <td>14</td>\n",
       "    </tr>\n",
       "    <tr>\n",
       "      <th>161</th>\n",
       "      <td>Governor Kay Ivey Supporters</td>\n",
       "      <td>facebook_group</td>\n",
       "      <td>13</td>\n",
       "    </tr>\n",
       "    <tr>\n",
       "      <th>507</th>\n",
       "      <td>Worth County, Iowa GOP</td>\n",
       "      <td>facebook_page</td>\n",
       "      <td>11</td>\n",
       "    </tr>\n",
       "    <tr>\n",
       "      <th>188</th>\n",
       "      <td>Inyo County Republican Party</td>\n",
       "      <td>facebook_page</td>\n",
       "      <td>10</td>\n",
       "    </tr>\n",
       "  </tbody>\n",
       "</table>\n",
       "</div>"
      ],
      "text/plain": [
       "                                    name     accountType  shares\n",
       "146                                  GOP   facebook_page      80\n",
       "373    Rowan County Kentucky Republicans   facebook_page      30\n",
       "160           Goodhue County Republicans   facebook_page      22\n",
       "510  Yellowstone County Republican Women  facebook_group      22\n",
       "463                         Trump Nation  facebook_group      16\n",
       "70      Cherokee County Republican Women   facebook_page      14\n",
       "8            9th District GOP of Georgia   facebook_page      14\n",
       "161         Governor Kay Ivey Supporters  facebook_group      13\n",
       "507               Worth County, Iowa GOP   facebook_page      11\n",
       "188         Inyo County Republican Party   facebook_page      10"
      ]
     },
     "execution_count": 5,
     "metadata": {},
     "output_type": "execute_result"
    }
   ],
   "source": [
    "gop_snowball_sample = pd.DataFrame.from_dict(gop_snowball['result']['posts'])\n",
    "gop_snowball_sample = pd.concat([gop_snowball_sample.drop(['account'], axis=1), gop_snowball_sample['account'].apply(pd.Series)], axis=1)\n",
    "gop_snowball_sample.groupby(['name', 'accountType']).size().to_frame().reset_index().rename(columns={0: 'shares'}).sort_values(by='shares', ascending=False).head(10)"
   ]
  },
  {
   "cell_type": "markdown",
   "metadata": {},
   "source": [
    "Looks like a pretty good snowball sample of Republican pages and groups!\n",
    "\n",
    "Next we create a 'prep_batch' function to prepare the pages and groups that have shared posts from these pages for batch upload to the CrowdTangle dashboard we created (be sure that you have created empty lists to store these pages and groups in your CrowdTangle dashboard!)"
   ]
  },
  {
   "cell_type": "code",
   "execution_count": 6,
   "metadata": {},
   "outputs": [],
   "source": [
    "def prep_batch(data, atype='pages', minsize=0, listname='null'):\n",
    "    df = pd.DataFrame.from_dict(data['result']['posts'])\n",
    "    df = pd.concat([df.drop(['account'], axis=1), df['account'].apply(pd.Series)], axis=1)\n",
    "    df = df.groupby(['name', 'url', 'accountType']).size().to_frame().reset_index().sort_values(by=0, ascending=False)\n",
    "    if atype == 'pages':\n",
    "        df1 = df.loc[((df['accountType'] == 'facebook_page') & (df[0] > minsize))]\n",
    "    else: #need to fix the else to set to 'groups' as an option -- not a big deal right now\n",
    "        df1 = df.loc[((df['accountType'] == 'facebook_group') & (df[0] > minsize))]\n",
    "    df1['List'] = listname\n",
    "    df1 = df1.rename(columns={\"url\": \"Page or Account URL\"}).reset_index(drop=True)\n",
    "    return df1[['Page or Account URL', 'List']] "
   ]
  },
  {
   "cell_type": "markdown",
   "metadata": {},
   "source": [
    "Since we're looking to see who is influencing discussion in Facebook groups, we're only going to prep a batch of groups for upload to CrowdTangle"
   ]
  },
  {
   "cell_type": "code",
   "execution_count": 9,
   "metadata": {},
   "outputs": [],
   "source": [
    "gop_snowball_gp_batch = prep_batch(gop_snowball, atype='groups', minsize=1, listname='GOP Influencer Snowball Groups')"
   ]
  },
  {
   "cell_type": "markdown",
   "metadata": {},
   "source": [
    "We'll export a CSV files for batch upload to CrowdTangle -- this will export one CSV file for batch upload."
   ]
  },
  {
   "cell_type": "code",
   "execution_count": 10,
   "metadata": {},
   "outputs": [],
   "source": [
    "gop_snowball_gp_batch.to_csv(\"gop_influencer_snowball_groups.csv\", index=False)"
   ]
  },
  {
   "cell_type": "markdown",
   "metadata": {},
   "source": [
    "Once you have uploaded these pages and groups via batch upload to CrowdTangle, we can grab posts from the snowball sample. For this example, we'll grab the last 10,000 posts from the GOP Influencer Snowball Groups sample.\n",
    "\n",
    "We create a 'get_lists' function (CrowdTangle Lists API wrapper) to use to access all lists in the dashboard that have been created. Then we will grab the id of the list of sample groups from which you want to collect up to the last 10,000 posts."
   ]
  },
  {
   "cell_type": "code",
   "execution_count": 11,
   "metadata": {},
   "outputs": [
    {
     "data": {
      "text/plain": [
       "[{'id': 1490375, 'title': 'Republican Snowball Pages', 'type': 'LIST'},\n",
       " {'id': 1490376, 'title': 'Republican Snowball Groups', 'type': 'LIST'},\n",
       " {'id': 1490497, 'title': 'GA Republican Groups', 'type': 'LIST'},\n",
       " {'id': 1500468, 'title': 'RNC Snowball', 'type': 'LIST'},\n",
       " {'id': 1501381, 'title': 'Republican Community', 'type': 'LIST'},\n",
       " {'id': 1504991, 'title': 'Republican Community Pages', 'type': 'LIST'},\n",
       " {'id': 1519020, 'title': 'GOP Influencer Snowball Groups', 'type': 'LIST'}]"
      ]
     },
     "execution_count": 11,
     "metadata": {},
     "output_type": "execute_result"
    }
   ],
   "source": [
    "def get_list_info():\n",
    "    ctapi_list = 'https://api.crowdtangle.com/lists?token='\n",
    "    api_url = format(f'{ctapi_list}{token}')\n",
    "    response = requests.get(api_url)\n",
    "    if response.status_code == 200:\n",
    "        return json.loads(response.content.decode('utf-8'))\n",
    "    else:\n",
    "        return None\n",
    "    \n",
    "list_info = get_list_info()\n",
    "list_info['result']['lists']"
   ]
  },
  {
   "cell_type": "markdown",
   "metadata": {},
   "source": [
    "The list id for the GOP Influencer Snowball Groups sample we just created is '1519020'.\n",
    "\n",
    "We create a 'get_posts' function (CrowdTangle Posts API wrapper) to get up to last 10,000 posts from sample during date range provided.\n",
    "\n",
    "We'll set a custom date range even though we will only get the last 10,000 posts available. Since we're interested in looking at week over week changes in influencers, we'll set the date range for one week. "
   ]
  },
  {
   "cell_type": "code",
   "execution_count": 12,
   "metadata": {},
   "outputs": [],
   "source": [
    "idx = '1519020' #GOP Influencer Snowball Groups \n",
    "start = '2021-03-02' #March 2 2021\n",
    "end = '2021-03-09' #March 2021\n",
    "allposts = []\n",
    "def get_posts():\n",
    "    ctapi_posts = 'https://api.crowdtangle.com/posts?token='\n",
    "    start_date = '&startDate='\n",
    "    end_date = '&endDate=' \n",
    "    listids = '&listIds='\n",
    "    count = '&count='\n",
    "    n = '100'\n",
    "    offset = '&offset='\n",
    "    sortBy = '&sortBy='\n",
    "    sort = 'total_interactions'\n",
    "    api_url = format(f'{ctapi_posts}{token}{listids}{idx}{start_date}{start}{end_date}{end}{count}{n}{sortBy}{sort}{offset}')\n",
    "    for o in range(0,10000,100):\n",
    "        api_call = api_url + str(o)\n",
    "        response = requests.get(api_call).json()\n",
    "        time.sleep(10)\n",
    "        allposts.append(response)\n",
    "        print(api_call)\n",
    "        \n",
    "def posts_toframe(allposts):\n",
    "    temp = pd.DataFrame(allposts)\n",
    "    temp = pd.concat([temp.drop(['result'], axis=1), temp['result'].apply(pd.Series)], axis=1)\n",
    "    temp = temp.explode('posts')\n",
    "    temp = pd.concat([temp.drop(['posts'], axis=1), temp['posts'].apply(pd.Series)], axis=1)\n",
    "    temp = temp.rename(columns={\"subscriberCount\": \"initialSubscriberCount\", \"id\": \"initialId\", \"platformId\": \"initialPlatformId\", \"platform\": \"initialPlatform\"})\n",
    "#expand account data into individual columns\n",
    "    temp = pd.concat([temp.drop(['account'], axis=1), temp['account'].apply(pd.Series)], axis=1)\n",
    "#expand statistics data into invidivual columns\n",
    "    temp = pd.concat([temp.drop(['statistics'], axis=1), temp['statistics'].apply(pd.Series)], axis=1)\n",
    "    temp = pd.concat([temp.drop(['actual'], axis=1), temp['actual'].apply(pd.Series)], axis=1)\n",
    "    temp['date'] = pd.to_datetime(temp.date)\n",
    "    temp['updated'] = pd.to_datetime(temp.updated)\n",
    "    temp['id'] = temp['id'].astype(object)\n",
    "    temp = temp.drop(['status', 'pagination'], axis=1)\n",
    "    return temp"
   ]
  },
  {
   "cell_type": "markdown",
   "metadata": {},
   "source": [
    "Now we'll run the get_posts function to retrieve the last 10,000 posts. Note: to address API rate limits, the get_posts function takes 15+ minutes to run (now's a good time to brew another pot of coffee)."
   ]
  },
  {
   "cell_type": "code",
   "execution_count": 13,
   "metadata": {},
   "outputs": [
    {
     "name": "stdout",
     "output_type": "stream",
     "text": [
      "https://api.crowdtangle.com/posts?token=S3Bhx2kk4yZaiFKsW19PwlT04kW9azGHBPaI1g6s&listIds=1519020&startDate=2021-03-02&endDate=2021-03-09&count=100&sortBy=total_interactions&offset=0\n",
      "https://api.crowdtangle.com/posts?token=S3Bhx2kk4yZaiFKsW19PwlT04kW9azGHBPaI1g6s&listIds=1519020&startDate=2021-03-02&endDate=2021-03-09&count=100&sortBy=total_interactions&offset=100\n",
      "https://api.crowdtangle.com/posts?token=S3Bhx2kk4yZaiFKsW19PwlT04kW9azGHBPaI1g6s&listIds=1519020&startDate=2021-03-02&endDate=2021-03-09&count=100&sortBy=total_interactions&offset=200\n",
      "https://api.crowdtangle.com/posts?token=S3Bhx2kk4yZaiFKsW19PwlT04kW9azGHBPaI1g6s&listIds=1519020&startDate=2021-03-02&endDate=2021-03-09&count=100&sortBy=total_interactions&offset=300\n",
      "https://api.crowdtangle.com/posts?token=S3Bhx2kk4yZaiFKsW19PwlT04kW9azGHBPaI1g6s&listIds=1519020&startDate=2021-03-02&endDate=2021-03-09&count=100&sortBy=total_interactions&offset=400\n",
      "https://api.crowdtangle.com/posts?token=S3Bhx2kk4yZaiFKsW19PwlT04kW9azGHBPaI1g6s&listIds=1519020&startDate=2021-03-02&endDate=2021-03-09&count=100&sortBy=total_interactions&offset=500\n",
      "https://api.crowdtangle.com/posts?token=S3Bhx2kk4yZaiFKsW19PwlT04kW9azGHBPaI1g6s&listIds=1519020&startDate=2021-03-02&endDate=2021-03-09&count=100&sortBy=total_interactions&offset=600\n",
      "https://api.crowdtangle.com/posts?token=S3Bhx2kk4yZaiFKsW19PwlT04kW9azGHBPaI1g6s&listIds=1519020&startDate=2021-03-02&endDate=2021-03-09&count=100&sortBy=total_interactions&offset=700\n",
      "https://api.crowdtangle.com/posts?token=S3Bhx2kk4yZaiFKsW19PwlT04kW9azGHBPaI1g6s&listIds=1519020&startDate=2021-03-02&endDate=2021-03-09&count=100&sortBy=total_interactions&offset=800\n",
      "https://api.crowdtangle.com/posts?token=S3Bhx2kk4yZaiFKsW19PwlT04kW9azGHBPaI1g6s&listIds=1519020&startDate=2021-03-02&endDate=2021-03-09&count=100&sortBy=total_interactions&offset=900\n",
      "https://api.crowdtangle.com/posts?token=S3Bhx2kk4yZaiFKsW19PwlT04kW9azGHBPaI1g6s&listIds=1519020&startDate=2021-03-02&endDate=2021-03-09&count=100&sortBy=total_interactions&offset=1000\n",
      "https://api.crowdtangle.com/posts?token=S3Bhx2kk4yZaiFKsW19PwlT04kW9azGHBPaI1g6s&listIds=1519020&startDate=2021-03-02&endDate=2021-03-09&count=100&sortBy=total_interactions&offset=1100\n",
      "https://api.crowdtangle.com/posts?token=S3Bhx2kk4yZaiFKsW19PwlT04kW9azGHBPaI1g6s&listIds=1519020&startDate=2021-03-02&endDate=2021-03-09&count=100&sortBy=total_interactions&offset=1200\n",
      "https://api.crowdtangle.com/posts?token=S3Bhx2kk4yZaiFKsW19PwlT04kW9azGHBPaI1g6s&listIds=1519020&startDate=2021-03-02&endDate=2021-03-09&count=100&sortBy=total_interactions&offset=1300\n",
      "https://api.crowdtangle.com/posts?token=S3Bhx2kk4yZaiFKsW19PwlT04kW9azGHBPaI1g6s&listIds=1519020&startDate=2021-03-02&endDate=2021-03-09&count=100&sortBy=total_interactions&offset=1400\n",
      "https://api.crowdtangle.com/posts?token=S3Bhx2kk4yZaiFKsW19PwlT04kW9azGHBPaI1g6s&listIds=1519020&startDate=2021-03-02&endDate=2021-03-09&count=100&sortBy=total_interactions&offset=1500\n",
      "https://api.crowdtangle.com/posts?token=S3Bhx2kk4yZaiFKsW19PwlT04kW9azGHBPaI1g6s&listIds=1519020&startDate=2021-03-02&endDate=2021-03-09&count=100&sortBy=total_interactions&offset=1600\n",
      "https://api.crowdtangle.com/posts?token=S3Bhx2kk4yZaiFKsW19PwlT04kW9azGHBPaI1g6s&listIds=1519020&startDate=2021-03-02&endDate=2021-03-09&count=100&sortBy=total_interactions&offset=1700\n",
      "https://api.crowdtangle.com/posts?token=S3Bhx2kk4yZaiFKsW19PwlT04kW9azGHBPaI1g6s&listIds=1519020&startDate=2021-03-02&endDate=2021-03-09&count=100&sortBy=total_interactions&offset=1800\n",
      "https://api.crowdtangle.com/posts?token=S3Bhx2kk4yZaiFKsW19PwlT04kW9azGHBPaI1g6s&listIds=1519020&startDate=2021-03-02&endDate=2021-03-09&count=100&sortBy=total_interactions&offset=1900\n",
      "https://api.crowdtangle.com/posts?token=S3Bhx2kk4yZaiFKsW19PwlT04kW9azGHBPaI1g6s&listIds=1519020&startDate=2021-03-02&endDate=2021-03-09&count=100&sortBy=total_interactions&offset=2000\n",
      "https://api.crowdtangle.com/posts?token=S3Bhx2kk4yZaiFKsW19PwlT04kW9azGHBPaI1g6s&listIds=1519020&startDate=2021-03-02&endDate=2021-03-09&count=100&sortBy=total_interactions&offset=2100\n",
      "https://api.crowdtangle.com/posts?token=S3Bhx2kk4yZaiFKsW19PwlT04kW9azGHBPaI1g6s&listIds=1519020&startDate=2021-03-02&endDate=2021-03-09&count=100&sortBy=total_interactions&offset=2200\n",
      "https://api.crowdtangle.com/posts?token=S3Bhx2kk4yZaiFKsW19PwlT04kW9azGHBPaI1g6s&listIds=1519020&startDate=2021-03-02&endDate=2021-03-09&count=100&sortBy=total_interactions&offset=2300\n",
      "https://api.crowdtangle.com/posts?token=S3Bhx2kk4yZaiFKsW19PwlT04kW9azGHBPaI1g6s&listIds=1519020&startDate=2021-03-02&endDate=2021-03-09&count=100&sortBy=total_interactions&offset=2400\n",
      "https://api.crowdtangle.com/posts?token=S3Bhx2kk4yZaiFKsW19PwlT04kW9azGHBPaI1g6s&listIds=1519020&startDate=2021-03-02&endDate=2021-03-09&count=100&sortBy=total_interactions&offset=2500\n",
      "https://api.crowdtangle.com/posts?token=S3Bhx2kk4yZaiFKsW19PwlT04kW9azGHBPaI1g6s&listIds=1519020&startDate=2021-03-02&endDate=2021-03-09&count=100&sortBy=total_interactions&offset=2600\n",
      "https://api.crowdtangle.com/posts?token=S3Bhx2kk4yZaiFKsW19PwlT04kW9azGHBPaI1g6s&listIds=1519020&startDate=2021-03-02&endDate=2021-03-09&count=100&sortBy=total_interactions&offset=2700\n",
      "https://api.crowdtangle.com/posts?token=S3Bhx2kk4yZaiFKsW19PwlT04kW9azGHBPaI1g6s&listIds=1519020&startDate=2021-03-02&endDate=2021-03-09&count=100&sortBy=total_interactions&offset=2800\n",
      "https://api.crowdtangle.com/posts?token=S3Bhx2kk4yZaiFKsW19PwlT04kW9azGHBPaI1g6s&listIds=1519020&startDate=2021-03-02&endDate=2021-03-09&count=100&sortBy=total_interactions&offset=2900\n",
      "https://api.crowdtangle.com/posts?token=S3Bhx2kk4yZaiFKsW19PwlT04kW9azGHBPaI1g6s&listIds=1519020&startDate=2021-03-02&endDate=2021-03-09&count=100&sortBy=total_interactions&offset=3000\n",
      "https://api.crowdtangle.com/posts?token=S3Bhx2kk4yZaiFKsW19PwlT04kW9azGHBPaI1g6s&listIds=1519020&startDate=2021-03-02&endDate=2021-03-09&count=100&sortBy=total_interactions&offset=3100\n",
      "https://api.crowdtangle.com/posts?token=S3Bhx2kk4yZaiFKsW19PwlT04kW9azGHBPaI1g6s&listIds=1519020&startDate=2021-03-02&endDate=2021-03-09&count=100&sortBy=total_interactions&offset=3200\n",
      "https://api.crowdtangle.com/posts?token=S3Bhx2kk4yZaiFKsW19PwlT04kW9azGHBPaI1g6s&listIds=1519020&startDate=2021-03-02&endDate=2021-03-09&count=100&sortBy=total_interactions&offset=3300\n",
      "https://api.crowdtangle.com/posts?token=S3Bhx2kk4yZaiFKsW19PwlT04kW9azGHBPaI1g6s&listIds=1519020&startDate=2021-03-02&endDate=2021-03-09&count=100&sortBy=total_interactions&offset=3400\n",
      "https://api.crowdtangle.com/posts?token=S3Bhx2kk4yZaiFKsW19PwlT04kW9azGHBPaI1g6s&listIds=1519020&startDate=2021-03-02&endDate=2021-03-09&count=100&sortBy=total_interactions&offset=3500\n",
      "https://api.crowdtangle.com/posts?token=S3Bhx2kk4yZaiFKsW19PwlT04kW9azGHBPaI1g6s&listIds=1519020&startDate=2021-03-02&endDate=2021-03-09&count=100&sortBy=total_interactions&offset=3600\n",
      "https://api.crowdtangle.com/posts?token=S3Bhx2kk4yZaiFKsW19PwlT04kW9azGHBPaI1g6s&listIds=1519020&startDate=2021-03-02&endDate=2021-03-09&count=100&sortBy=total_interactions&offset=3700\n",
      "https://api.crowdtangle.com/posts?token=S3Bhx2kk4yZaiFKsW19PwlT04kW9azGHBPaI1g6s&listIds=1519020&startDate=2021-03-02&endDate=2021-03-09&count=100&sortBy=total_interactions&offset=3800\n",
      "https://api.crowdtangle.com/posts?token=S3Bhx2kk4yZaiFKsW19PwlT04kW9azGHBPaI1g6s&listIds=1519020&startDate=2021-03-02&endDate=2021-03-09&count=100&sortBy=total_interactions&offset=3900\n",
      "https://api.crowdtangle.com/posts?token=S3Bhx2kk4yZaiFKsW19PwlT04kW9azGHBPaI1g6s&listIds=1519020&startDate=2021-03-02&endDate=2021-03-09&count=100&sortBy=total_interactions&offset=4000\n",
      "https://api.crowdtangle.com/posts?token=S3Bhx2kk4yZaiFKsW19PwlT04kW9azGHBPaI1g6s&listIds=1519020&startDate=2021-03-02&endDate=2021-03-09&count=100&sortBy=total_interactions&offset=4100\n",
      "https://api.crowdtangle.com/posts?token=S3Bhx2kk4yZaiFKsW19PwlT04kW9azGHBPaI1g6s&listIds=1519020&startDate=2021-03-02&endDate=2021-03-09&count=100&sortBy=total_interactions&offset=4200\n",
      "https://api.crowdtangle.com/posts?token=S3Bhx2kk4yZaiFKsW19PwlT04kW9azGHBPaI1g6s&listIds=1519020&startDate=2021-03-02&endDate=2021-03-09&count=100&sortBy=total_interactions&offset=4300\n",
      "https://api.crowdtangle.com/posts?token=S3Bhx2kk4yZaiFKsW19PwlT04kW9azGHBPaI1g6s&listIds=1519020&startDate=2021-03-02&endDate=2021-03-09&count=100&sortBy=total_interactions&offset=4400\n"
     ]
    },
    {
     "name": "stdout",
     "output_type": "stream",
     "text": [
      "https://api.crowdtangle.com/posts?token=S3Bhx2kk4yZaiFKsW19PwlT04kW9azGHBPaI1g6s&listIds=1519020&startDate=2021-03-02&endDate=2021-03-09&count=100&sortBy=total_interactions&offset=4500\n",
      "https://api.crowdtangle.com/posts?token=S3Bhx2kk4yZaiFKsW19PwlT04kW9azGHBPaI1g6s&listIds=1519020&startDate=2021-03-02&endDate=2021-03-09&count=100&sortBy=total_interactions&offset=4600\n",
      "https://api.crowdtangle.com/posts?token=S3Bhx2kk4yZaiFKsW19PwlT04kW9azGHBPaI1g6s&listIds=1519020&startDate=2021-03-02&endDate=2021-03-09&count=100&sortBy=total_interactions&offset=4700\n",
      "https://api.crowdtangle.com/posts?token=S3Bhx2kk4yZaiFKsW19PwlT04kW9azGHBPaI1g6s&listIds=1519020&startDate=2021-03-02&endDate=2021-03-09&count=100&sortBy=total_interactions&offset=4800\n",
      "https://api.crowdtangle.com/posts?token=S3Bhx2kk4yZaiFKsW19PwlT04kW9azGHBPaI1g6s&listIds=1519020&startDate=2021-03-02&endDate=2021-03-09&count=100&sortBy=total_interactions&offset=4900\n",
      "https://api.crowdtangle.com/posts?token=S3Bhx2kk4yZaiFKsW19PwlT04kW9azGHBPaI1g6s&listIds=1519020&startDate=2021-03-02&endDate=2021-03-09&count=100&sortBy=total_interactions&offset=5000\n",
      "https://api.crowdtangle.com/posts?token=S3Bhx2kk4yZaiFKsW19PwlT04kW9azGHBPaI1g6s&listIds=1519020&startDate=2021-03-02&endDate=2021-03-09&count=100&sortBy=total_interactions&offset=5100\n",
      "https://api.crowdtangle.com/posts?token=S3Bhx2kk4yZaiFKsW19PwlT04kW9azGHBPaI1g6s&listIds=1519020&startDate=2021-03-02&endDate=2021-03-09&count=100&sortBy=total_interactions&offset=5200\n",
      "https://api.crowdtangle.com/posts?token=S3Bhx2kk4yZaiFKsW19PwlT04kW9azGHBPaI1g6s&listIds=1519020&startDate=2021-03-02&endDate=2021-03-09&count=100&sortBy=total_interactions&offset=5300\n",
      "https://api.crowdtangle.com/posts?token=S3Bhx2kk4yZaiFKsW19PwlT04kW9azGHBPaI1g6s&listIds=1519020&startDate=2021-03-02&endDate=2021-03-09&count=100&sortBy=total_interactions&offset=5400\n",
      "https://api.crowdtangle.com/posts?token=S3Bhx2kk4yZaiFKsW19PwlT04kW9azGHBPaI1g6s&listIds=1519020&startDate=2021-03-02&endDate=2021-03-09&count=100&sortBy=total_interactions&offset=5500\n",
      "https://api.crowdtangle.com/posts?token=S3Bhx2kk4yZaiFKsW19PwlT04kW9azGHBPaI1g6s&listIds=1519020&startDate=2021-03-02&endDate=2021-03-09&count=100&sortBy=total_interactions&offset=5600\n",
      "https://api.crowdtangle.com/posts?token=S3Bhx2kk4yZaiFKsW19PwlT04kW9azGHBPaI1g6s&listIds=1519020&startDate=2021-03-02&endDate=2021-03-09&count=100&sortBy=total_interactions&offset=5700\n",
      "https://api.crowdtangle.com/posts?token=S3Bhx2kk4yZaiFKsW19PwlT04kW9azGHBPaI1g6s&listIds=1519020&startDate=2021-03-02&endDate=2021-03-09&count=100&sortBy=total_interactions&offset=5800\n",
      "https://api.crowdtangle.com/posts?token=S3Bhx2kk4yZaiFKsW19PwlT04kW9azGHBPaI1g6s&listIds=1519020&startDate=2021-03-02&endDate=2021-03-09&count=100&sortBy=total_interactions&offset=5900\n",
      "https://api.crowdtangle.com/posts?token=S3Bhx2kk4yZaiFKsW19PwlT04kW9azGHBPaI1g6s&listIds=1519020&startDate=2021-03-02&endDate=2021-03-09&count=100&sortBy=total_interactions&offset=6000\n",
      "https://api.crowdtangle.com/posts?token=S3Bhx2kk4yZaiFKsW19PwlT04kW9azGHBPaI1g6s&listIds=1519020&startDate=2021-03-02&endDate=2021-03-09&count=100&sortBy=total_interactions&offset=6100\n",
      "https://api.crowdtangle.com/posts?token=S3Bhx2kk4yZaiFKsW19PwlT04kW9azGHBPaI1g6s&listIds=1519020&startDate=2021-03-02&endDate=2021-03-09&count=100&sortBy=total_interactions&offset=6200\n",
      "https://api.crowdtangle.com/posts?token=S3Bhx2kk4yZaiFKsW19PwlT04kW9azGHBPaI1g6s&listIds=1519020&startDate=2021-03-02&endDate=2021-03-09&count=100&sortBy=total_interactions&offset=6300\n",
      "https://api.crowdtangle.com/posts?token=S3Bhx2kk4yZaiFKsW19PwlT04kW9azGHBPaI1g6s&listIds=1519020&startDate=2021-03-02&endDate=2021-03-09&count=100&sortBy=total_interactions&offset=6400\n",
      "https://api.crowdtangle.com/posts?token=S3Bhx2kk4yZaiFKsW19PwlT04kW9azGHBPaI1g6s&listIds=1519020&startDate=2021-03-02&endDate=2021-03-09&count=100&sortBy=total_interactions&offset=6500\n",
      "https://api.crowdtangle.com/posts?token=S3Bhx2kk4yZaiFKsW19PwlT04kW9azGHBPaI1g6s&listIds=1519020&startDate=2021-03-02&endDate=2021-03-09&count=100&sortBy=total_interactions&offset=6600\n",
      "https://api.crowdtangle.com/posts?token=S3Bhx2kk4yZaiFKsW19PwlT04kW9azGHBPaI1g6s&listIds=1519020&startDate=2021-03-02&endDate=2021-03-09&count=100&sortBy=total_interactions&offset=6700\n",
      "https://api.crowdtangle.com/posts?token=S3Bhx2kk4yZaiFKsW19PwlT04kW9azGHBPaI1g6s&listIds=1519020&startDate=2021-03-02&endDate=2021-03-09&count=100&sortBy=total_interactions&offset=6800\n",
      "https://api.crowdtangle.com/posts?token=S3Bhx2kk4yZaiFKsW19PwlT04kW9azGHBPaI1g6s&listIds=1519020&startDate=2021-03-02&endDate=2021-03-09&count=100&sortBy=total_interactions&offset=6900\n",
      "https://api.crowdtangle.com/posts?token=S3Bhx2kk4yZaiFKsW19PwlT04kW9azGHBPaI1g6s&listIds=1519020&startDate=2021-03-02&endDate=2021-03-09&count=100&sortBy=total_interactions&offset=7000\n",
      "https://api.crowdtangle.com/posts?token=S3Bhx2kk4yZaiFKsW19PwlT04kW9azGHBPaI1g6s&listIds=1519020&startDate=2021-03-02&endDate=2021-03-09&count=100&sortBy=total_interactions&offset=7100\n",
      "https://api.crowdtangle.com/posts?token=S3Bhx2kk4yZaiFKsW19PwlT04kW9azGHBPaI1g6s&listIds=1519020&startDate=2021-03-02&endDate=2021-03-09&count=100&sortBy=total_interactions&offset=7200\n",
      "https://api.crowdtangle.com/posts?token=S3Bhx2kk4yZaiFKsW19PwlT04kW9azGHBPaI1g6s&listIds=1519020&startDate=2021-03-02&endDate=2021-03-09&count=100&sortBy=total_interactions&offset=7300\n",
      "https://api.crowdtangle.com/posts?token=S3Bhx2kk4yZaiFKsW19PwlT04kW9azGHBPaI1g6s&listIds=1519020&startDate=2021-03-02&endDate=2021-03-09&count=100&sortBy=total_interactions&offset=7400\n",
      "https://api.crowdtangle.com/posts?token=S3Bhx2kk4yZaiFKsW19PwlT04kW9azGHBPaI1g6s&listIds=1519020&startDate=2021-03-02&endDate=2021-03-09&count=100&sortBy=total_interactions&offset=7500\n",
      "https://api.crowdtangle.com/posts?token=S3Bhx2kk4yZaiFKsW19PwlT04kW9azGHBPaI1g6s&listIds=1519020&startDate=2021-03-02&endDate=2021-03-09&count=100&sortBy=total_interactions&offset=7600\n",
      "https://api.crowdtangle.com/posts?token=S3Bhx2kk4yZaiFKsW19PwlT04kW9azGHBPaI1g6s&listIds=1519020&startDate=2021-03-02&endDate=2021-03-09&count=100&sortBy=total_interactions&offset=7700\n",
      "https://api.crowdtangle.com/posts?token=S3Bhx2kk4yZaiFKsW19PwlT04kW9azGHBPaI1g6s&listIds=1519020&startDate=2021-03-02&endDate=2021-03-09&count=100&sortBy=total_interactions&offset=7800\n",
      "https://api.crowdtangle.com/posts?token=S3Bhx2kk4yZaiFKsW19PwlT04kW9azGHBPaI1g6s&listIds=1519020&startDate=2021-03-02&endDate=2021-03-09&count=100&sortBy=total_interactions&offset=7900\n",
      "https://api.crowdtangle.com/posts?token=S3Bhx2kk4yZaiFKsW19PwlT04kW9azGHBPaI1g6s&listIds=1519020&startDate=2021-03-02&endDate=2021-03-09&count=100&sortBy=total_interactions&offset=8000\n",
      "https://api.crowdtangle.com/posts?token=S3Bhx2kk4yZaiFKsW19PwlT04kW9azGHBPaI1g6s&listIds=1519020&startDate=2021-03-02&endDate=2021-03-09&count=100&sortBy=total_interactions&offset=8100\n",
      "https://api.crowdtangle.com/posts?token=S3Bhx2kk4yZaiFKsW19PwlT04kW9azGHBPaI1g6s&listIds=1519020&startDate=2021-03-02&endDate=2021-03-09&count=100&sortBy=total_interactions&offset=8200\n",
      "https://api.crowdtangle.com/posts?token=S3Bhx2kk4yZaiFKsW19PwlT04kW9azGHBPaI1g6s&listIds=1519020&startDate=2021-03-02&endDate=2021-03-09&count=100&sortBy=total_interactions&offset=8300\n",
      "https://api.crowdtangle.com/posts?token=S3Bhx2kk4yZaiFKsW19PwlT04kW9azGHBPaI1g6s&listIds=1519020&startDate=2021-03-02&endDate=2021-03-09&count=100&sortBy=total_interactions&offset=8400\n",
      "https://api.crowdtangle.com/posts?token=S3Bhx2kk4yZaiFKsW19PwlT04kW9azGHBPaI1g6s&listIds=1519020&startDate=2021-03-02&endDate=2021-03-09&count=100&sortBy=total_interactions&offset=8500\n",
      "https://api.crowdtangle.com/posts?token=S3Bhx2kk4yZaiFKsW19PwlT04kW9azGHBPaI1g6s&listIds=1519020&startDate=2021-03-02&endDate=2021-03-09&count=100&sortBy=total_interactions&offset=8600\n",
      "https://api.crowdtangle.com/posts?token=S3Bhx2kk4yZaiFKsW19PwlT04kW9azGHBPaI1g6s&listIds=1519020&startDate=2021-03-02&endDate=2021-03-09&count=100&sortBy=total_interactions&offset=8700\n",
      "https://api.crowdtangle.com/posts?token=S3Bhx2kk4yZaiFKsW19PwlT04kW9azGHBPaI1g6s&listIds=1519020&startDate=2021-03-02&endDate=2021-03-09&count=100&sortBy=total_interactions&offset=8800\n",
      "https://api.crowdtangle.com/posts?token=S3Bhx2kk4yZaiFKsW19PwlT04kW9azGHBPaI1g6s&listIds=1519020&startDate=2021-03-02&endDate=2021-03-09&count=100&sortBy=total_interactions&offset=8900\n"
     ]
    },
    {
     "name": "stdout",
     "output_type": "stream",
     "text": [
      "https://api.crowdtangle.com/posts?token=S3Bhx2kk4yZaiFKsW19PwlT04kW9azGHBPaI1g6s&listIds=1519020&startDate=2021-03-02&endDate=2021-03-09&count=100&sortBy=total_interactions&offset=9000\n",
      "https://api.crowdtangle.com/posts?token=S3Bhx2kk4yZaiFKsW19PwlT04kW9azGHBPaI1g6s&listIds=1519020&startDate=2021-03-02&endDate=2021-03-09&count=100&sortBy=total_interactions&offset=9100\n",
      "https://api.crowdtangle.com/posts?token=S3Bhx2kk4yZaiFKsW19PwlT04kW9azGHBPaI1g6s&listIds=1519020&startDate=2021-03-02&endDate=2021-03-09&count=100&sortBy=total_interactions&offset=9200\n",
      "https://api.crowdtangle.com/posts?token=S3Bhx2kk4yZaiFKsW19PwlT04kW9azGHBPaI1g6s&listIds=1519020&startDate=2021-03-02&endDate=2021-03-09&count=100&sortBy=total_interactions&offset=9300\n",
      "https://api.crowdtangle.com/posts?token=S3Bhx2kk4yZaiFKsW19PwlT04kW9azGHBPaI1g6s&listIds=1519020&startDate=2021-03-02&endDate=2021-03-09&count=100&sortBy=total_interactions&offset=9400\n",
      "https://api.crowdtangle.com/posts?token=S3Bhx2kk4yZaiFKsW19PwlT04kW9azGHBPaI1g6s&listIds=1519020&startDate=2021-03-02&endDate=2021-03-09&count=100&sortBy=total_interactions&offset=9500\n",
      "https://api.crowdtangle.com/posts?token=S3Bhx2kk4yZaiFKsW19PwlT04kW9azGHBPaI1g6s&listIds=1519020&startDate=2021-03-02&endDate=2021-03-09&count=100&sortBy=total_interactions&offset=9600\n",
      "https://api.crowdtangle.com/posts?token=S3Bhx2kk4yZaiFKsW19PwlT04kW9azGHBPaI1g6s&listIds=1519020&startDate=2021-03-02&endDate=2021-03-09&count=100&sortBy=total_interactions&offset=9700\n",
      "https://api.crowdtangle.com/posts?token=S3Bhx2kk4yZaiFKsW19PwlT04kW9azGHBPaI1g6s&listIds=1519020&startDate=2021-03-02&endDate=2021-03-09&count=100&sortBy=total_interactions&offset=9800\n",
      "https://api.crowdtangle.com/posts?token=S3Bhx2kk4yZaiFKsW19PwlT04kW9azGHBPaI1g6s&listIds=1519020&startDate=2021-03-02&endDate=2021-03-09&count=100&sortBy=total_interactions&offset=9900\n"
     ]
    }
   ],
   "source": [
    "get_posts() "
   ]
  },
  {
   "cell_type": "markdown",
   "metadata": {},
   "source": [
    "We'll convert the data we just obtained to a dataframe... "
   ]
  },
  {
   "cell_type": "code",
   "execution_count": 19,
   "metadata": {},
   "outputs": [],
   "source": [
    "gop_snowball_group_posts = posts_toframe(allposts)"
   ]
  },
  {
   "cell_type": "markdown",
   "metadata": {},
   "source": [
    "...and take a peek at the links from Facebook that we will be working with soon to extract data about influencers. "
   ]
  },
  {
   "cell_type": "code",
   "execution_count": 21,
   "metadata": {},
   "outputs": [
    {
     "data": {
      "text/html": [
       "<div>\n",
       "<style scoped>\n",
       "    .dataframe tbody tr th:only-of-type {\n",
       "        vertical-align: middle;\n",
       "    }\n",
       "\n",
       "    .dataframe tbody tr th {\n",
       "        vertical-align: top;\n",
       "    }\n",
       "\n",
       "    .dataframe thead th {\n",
       "        text-align: right;\n",
       "    }\n",
       "</style>\n",
       "<table border=\"1\" class=\"dataframe\">\n",
       "  <thead>\n",
       "    <tr style=\"text-align: right;\">\n",
       "      <th></th>\n",
       "      <th>link</th>\n",
       "    </tr>\n",
       "  </thead>\n",
       "  <tbody>\n",
       "    <tr>\n",
       "      <th>57</th>\n",
       "      <td>https://www.facebook.com/photo.php?fbid=295706...</td>\n",
       "    </tr>\n",
       "    <tr>\n",
       "      <th>34</th>\n",
       "      <td>https://www.facebook.com/youngamericasfoundati...</td>\n",
       "    </tr>\n",
       "    <tr>\n",
       "      <th>38</th>\n",
       "      <td>https://www.facebook.com/GOP/videos/2915113123...</td>\n",
       "    </tr>\n",
       "    <tr>\n",
       "      <th>40</th>\n",
       "      <td>https://www.facebook.com/drandras.aradszki/pho...</td>\n",
       "    </tr>\n",
       "    <tr>\n",
       "      <th>29</th>\n",
       "      <td>https://www.facebook.com/turningpointusa/photo...</td>\n",
       "    </tr>\n",
       "    <tr>\n",
       "      <th>50</th>\n",
       "      <td>https://www.facebook.com/cpsnewsnetwork/videos...</td>\n",
       "    </tr>\n",
       "    <tr>\n",
       "      <th>26</th>\n",
       "      <td>https://www.facebook.com/photo.php?fbid=367599...</td>\n",
       "    </tr>\n",
       "    <tr>\n",
       "      <th>31</th>\n",
       "      <td>https://www.facebook.com/photo.php?fbid=368454...</td>\n",
       "    </tr>\n",
       "    <tr>\n",
       "      <th>32</th>\n",
       "      <td>https://www.facebook.com/PatriotPost/photos/a....</td>\n",
       "    </tr>\n",
       "    <tr>\n",
       "      <th>78</th>\n",
       "      <td>https://www.facebook.com/reportingfrommybasket...</td>\n",
       "    </tr>\n",
       "    <tr>\n",
       "      <th>9</th>\n",
       "      <td>https://www.facebook.com/photo.php?fbid=403243...</td>\n",
       "    </tr>\n",
       "    <tr>\n",
       "      <th>78</th>\n",
       "      <td>https://www.facebook.com/2821064631368309/vide...</td>\n",
       "    </tr>\n",
       "    <tr>\n",
       "      <th>24</th>\n",
       "      <td>https://www.facebook.com/themarkkaye/videos/25...</td>\n",
       "    </tr>\n",
       "    <tr>\n",
       "      <th>58</th>\n",
       "      <td>https://www.facebook.com/photo.php?fbid=102252...</td>\n",
       "    </tr>\n",
       "    <tr>\n",
       "      <th>57</th>\n",
       "      <td>https://www.facebook.com/photo.php?fbid=407383...</td>\n",
       "    </tr>\n",
       "    <tr>\n",
       "      <th>48</th>\n",
       "      <td>https://www.facebook.com/todayscatholicsaints/...</td>\n",
       "    </tr>\n",
       "    <tr>\n",
       "      <th>29</th>\n",
       "      <td>https://www.facebook.com/photo.php?fbid=102202...</td>\n",
       "    </tr>\n",
       "    <tr>\n",
       "      <th>0</th>\n",
       "      <td>https://www.facebook.com/313836475296127/photo...</td>\n",
       "    </tr>\n",
       "    <tr>\n",
       "      <th>60</th>\n",
       "      <td>https://www.facebook.com/EstamosUnidos21/photo...</td>\n",
       "    </tr>\n",
       "    <tr>\n",
       "      <th>45</th>\n",
       "      <td>https://www.facebook.com/photo.php?fbid=847784...</td>\n",
       "    </tr>\n",
       "  </tbody>\n",
       "</table>\n",
       "</div>"
      ],
      "text/plain": [
       "                                                 link\n",
       "57  https://www.facebook.com/photo.php?fbid=295706...\n",
       "34  https://www.facebook.com/youngamericasfoundati...\n",
       "38  https://www.facebook.com/GOP/videos/2915113123...\n",
       "40  https://www.facebook.com/drandras.aradszki/pho...\n",
       "29  https://www.facebook.com/turningpointusa/photo...\n",
       "50  https://www.facebook.com/cpsnewsnetwork/videos...\n",
       "26  https://www.facebook.com/photo.php?fbid=367599...\n",
       "31  https://www.facebook.com/photo.php?fbid=368454...\n",
       "32  https://www.facebook.com/PatriotPost/photos/a....\n",
       "78  https://www.facebook.com/reportingfrommybasket...\n",
       "9   https://www.facebook.com/photo.php?fbid=403243...\n",
       "78  https://www.facebook.com/2821064631368309/vide...\n",
       "24  https://www.facebook.com/themarkkaye/videos/25...\n",
       "58  https://www.facebook.com/photo.php?fbid=102252...\n",
       "57  https://www.facebook.com/photo.php?fbid=407383...\n",
       "48  https://www.facebook.com/todayscatholicsaints/...\n",
       "29  https://www.facebook.com/photo.php?fbid=102202...\n",
       "0   https://www.facebook.com/313836475296127/photo...\n",
       "60  https://www.facebook.com/EstamosUnidos21/photo...\n",
       "45  https://www.facebook.com/photo.php?fbid=847784..."
      ]
     },
     "execution_count": 21,
     "metadata": {},
     "output_type": "execute_result"
    }
   ],
   "source": [
    "gop_snowball_links = gop_snowball_group_posts[['link']][gop_snowball_group_posts['link'].notnull()]\n",
    "gop_snowball_links[gop_snowball_links['link'].str.contains(r\"facebook.com\")].sample(n=20, random_state=1)"
   ]
  },
  {
   "cell_type": "markdown",
   "metadata": {},
   "source": [
    "Then we'll prepare it for storage... "
   ]
  },
  {
   "cell_type": "code",
   "execution_count": 22,
   "metadata": {},
   "outputs": [],
   "source": [
    "gop_snowball_group_posts = gop_snowball_group_posts.drop([0], axis=1) #removes all columns with name '0'\n",
    "gop_snowball_group_posts = gop_snowball_group_posts.drop(['expandedLinks', 'media', 'expected'], axis=1) #removes columns which have list objects as values"
   ]
  },
  {
   "cell_type": "markdown",
   "metadata": {},
   "source": [
    "...and upload to our database (NB: we don't want to lose this data and have to wait 15+ minutes for get_posts() line to run again)."
   ]
  },
  {
   "cell_type": "code",
   "execution_count": 25,
   "metadata": {},
   "outputs": [],
   "source": [
    "gop_snowball_group_posts.to_sql(\"gop_groups_snowball_posts\", db, if_exists='replace', schema=None, index=False, chunksize=500)"
   ]
  },
  {
   "cell_type": "markdown",
   "metadata": {},
   "source": [
    "Now we'll use social network analysis and community detection methods to identify our community of Facebook groups of interest for the purposes of evaluating who is influential in that particular community.\n",
    "\n",
    "First, we'll create a function called 'prep_sna_group' to pre-process our data for Social Network Analysis.\n",
    "\n",
    "This script specifically uses the Facebook assigned 'platformId' of the group as the 'target' and the handle of the 'source' of posted content to the group -- this may be content that was shared from a public Facebook page or from an inidivual Facebook account, i.e. a private Facebook user. By extracting 'sources' and 'targets', we will be able to map the degree to which groups are targeted with common sources of information.\n",
    "\n",
    "NB: The source handle - which is either a text string from the URL of a public Facebook page (e.g. joeSmith) or a numeric identifier (e.g. 987654) of a Facebook user. It is contained in the link variable and must be parsed using url splitting techniques."
   ]
  },
  {
   "cell_type": "code",
   "execution_count": 26,
   "metadata": {},
   "outputs": [],
   "source": [
    "def prep_sna_group(data):\n",
    "    #subset just key columns\n",
    "    data_sub = data[['name', 'url', 'platformId', 'subscriberCount', 'link']]\n",
    "    #remove rows where there is no link  value\n",
    "    data_sub = data_sub[pd.notnull(data_sub['link'])]\n",
    "    #remove rows where link contains 'photo.php' - there is no user id handle in those links\n",
    "    data_sub = data_sub[~data_sub['link'].str.contains(r\"photo.php\")]\n",
    "    #find + remove '/groups' in link\n",
    "    data_sub['link'] = data_sub['link'].replace(to_replace=r\"/groups\", value='', regex=True)\n",
    "    #find + remove '/photos' in link\n",
    "    data_sub['link'] = data_sub['link'].replace(to_replace=r\"/photos\", value='', regex=True)\n",
    "    #find + remove \"?\" in link \n",
    "    data_sub['link'] = data_sub['link'].replace(to_replace=r\"\\?\", value='', regex=True)\n",
    "    #find + remove \"fbid=\" in link \n",
    "    data_sub['link'] = data_sub['link'].replace(to_replace=r\"fbid=\", value='', regex=True)\n",
    "    #find + remove '&\" + everything afterwards in link \n",
    "    data_sub['link'] = data_sub['link'].replace(to_replace=r\"\\&.*\", value='/', regex=True)\n",
    "    #parse cleaned up link url to separate components into different columns\n",
    "    data_sub['protocol2'], data_sub['domain2'], data_sub['path2'], data_sub['query2'], data_sub['fragment2'] = zip(*[urlsplit(i) for i in data_sub['link']])\n",
    "    #keep only rows where domain is facebook.com\n",
    "    data_sub = data_sub[data_sub['domain2'] == 'www.facebook.com']\n",
    "    #change Facebook Id value to 'target' (this is id of the group where post was shared)\n",
    "    data_sub['target'] = data_sub['platformId']\n",
    "    #change path2 value to 'source' (this is the id of the user that targeted the group)\n",
    "    data_sub['source'] = data_sub['path2'].str.extract(r'/\\s*([^\\/]*)\\s*\\/', expand=False)\n",
    "    #add column 'group' that is the same as 'Group Name'. in some functions, space btwn Group and Name causes probs\n",
    "    data_sub['group'] = data_sub['name']\n",
    "    #remove any rows where 'source' is null -- probably caused by  find + remove error...to be examined \n",
    "    data_sub = data_sub[pd.notnull(data_sub['source'])].reset_index(drop=True)\n",
    "    #return the final cleaned table\n",
    "    return data_sub"
   ]
  },
  {
   "cell_type": "markdown",
   "metadata": {},
   "source": [
    "We pass the posts data to our prep_sna_group function to obtain the 'targets' (groups) and 'sources'"
   ]
  },
  {
   "cell_type": "code",
   "execution_count": 28,
   "metadata": {},
   "outputs": [],
   "source": [
    "gop_groups_pairs = prep_sna_group(gop_snowball_group_posts) "
   ]
  },
  {
   "cell_type": "markdown",
   "metadata": {},
   "source": [
    "We subset the data to get just three columns of interest: name, target and source. The name is the group (name) which corresponds to the target, which is merely a numerical identifier. Extracting the name of the group is useful for adding labels to our SNA graph. As mentioned previously, the source is the handle (text string or numeric identifier) of the original content provider for the post. Also, to make sure the data is clean for social network analysis purposes, remove any rows where the source is null."
   ]
  },
  {
   "cell_type": "code",
   "execution_count": 29,
   "metadata": {},
   "outputs": [],
   "source": [
    "gop_groups_pairs = gop_groups_pairs[['name','target','source']]\n",
    "gop_groups_pairs = gop_groups_pairs[pd.notnull(gop_groups_pairs['source'])]"
   ]
  },
  {
   "cell_type": "markdown",
   "metadata": {},
   "source": [
    "We'll delete any rows where the source and the target are identical. NB: this is not relevant when conducting SNAs on groups data since a group cannot act as a 'user' (a group is merely a space for users to post), but it is relevant for pages, i.e. when a user re-shares an earlier post or photo from his / her own timeline. Thus we leave it here for demonstration purposes to show how it can be done."
   ]
  },
  {
   "cell_type": "code",
   "execution_count": 30,
   "metadata": {},
   "outputs": [],
   "source": [
    "gop_groups_index = gop_groups_pairs[gop_groups_pairs['target'] == gop_groups_pairs['source']].index\n",
    "gop_groups_pairs.drop(gop_groups_index, inplace=True)"
   ]
  },
  {
   "cell_type": "markdown",
   "metadata": {},
   "source": [
    "One measure of strength of relationships between sources and targets is the frequency with which a given source posts to a target -- this is the 'weight' of the relationship. "
   ]
  },
  {
   "cell_type": "code",
   "execution_count": 31,
   "metadata": {},
   "outputs": [],
   "source": [
    "gop_groups_weight = pd.DataFrame(gop_groups_pairs.groupby(['name', 'target', 'source']).size().reset_index())\n",
    "gop_groups_weight = gop_groups_weight.rename(columns={0: 'weight'}).reset_index(drop=True)\n",
    "gop_groups_weight = gop_groups_weight.sort_values(by='weight', ascending=False).reset_index(drop=True)"
   ]
  },
  {
   "cell_type": "markdown",
   "metadata": {},
   "source": [
    "We can take a peek at the most prominent information sources posted across all group posts in our snowball sample. This provides us a sense of which sources are influential across the entire sample. "
   ]
  },
  {
   "cell_type": "code",
   "execution_count": 32,
   "metadata": {},
   "outputs": [
    {
     "data": {
      "text/html": [
       "<div>\n",
       "<style scoped>\n",
       "    .dataframe tbody tr th:only-of-type {\n",
       "        vertical-align: middle;\n",
       "    }\n",
       "\n",
       "    .dataframe tbody tr th {\n",
       "        vertical-align: top;\n",
       "    }\n",
       "\n",
       "    .dataframe thead th {\n",
       "        text-align: right;\n",
       "    }\n",
       "</style>\n",
       "<table border=\"1\" class=\"dataframe\">\n",
       "  <thead>\n",
       "    <tr style=\"text-align: right;\">\n",
       "      <th></th>\n",
       "      <th>weight</th>\n",
       "    </tr>\n",
       "    <tr>\n",
       "      <th>source</th>\n",
       "      <th></th>\n",
       "    </tr>\n",
       "  </thead>\n",
       "  <tbody>\n",
       "    <tr>\n",
       "      <th>RealAmericasVoice</th>\n",
       "      <td>43</td>\n",
       "    </tr>\n",
       "    <tr>\n",
       "      <th>newsmax</th>\n",
       "      <td>43</td>\n",
       "    </tr>\n",
       "    <tr>\n",
       "      <th>PeruDMV</th>\n",
       "      <td>42</td>\n",
       "    </tr>\n",
       "    <tr>\n",
       "      <th>100002780167774</th>\n",
       "      <td>35</td>\n",
       "    </tr>\n",
       "    <tr>\n",
       "      <th>DonaldJTrumpJr</th>\n",
       "      <td>31</td>\n",
       "    </tr>\n",
       "    <tr>\n",
       "      <th>MarjorieTaylorGreene</th>\n",
       "      <td>27</td>\n",
       "    </tr>\n",
       "    <tr>\n",
       "      <th>Conservativity</th>\n",
       "      <td>24</td>\n",
       "    </tr>\n",
       "    <tr>\n",
       "      <th>DMLNewsApp</th>\n",
       "      <td>24</td>\n",
       "    </tr>\n",
       "    <tr>\n",
       "      <th>Breitbart</th>\n",
       "      <td>24</td>\n",
       "    </tr>\n",
       "    <tr>\n",
       "      <th>szamokadatok</th>\n",
       "      <td>23</td>\n",
       "    </tr>\n",
       "    <tr>\n",
       "      <th>dan.bongino</th>\n",
       "      <td>23</td>\n",
       "    </tr>\n",
       "    <tr>\n",
       "      <th>bennyjohnson</th>\n",
       "      <td>23</td>\n",
       "    </tr>\n",
       "    <tr>\n",
       "      <th>998451233647902</th>\n",
       "      <td>22</td>\n",
       "    </tr>\n",
       "    <tr>\n",
       "      <th>FoxNews</th>\n",
       "      <td>22</td>\n",
       "    </tr>\n",
       "    <tr>\n",
       "      <th>141991342558232</th>\n",
       "      <td>20</td>\n",
       "    </tr>\n",
       "    <tr>\n",
       "      <th>terrencekwilliams</th>\n",
       "      <td>20</td>\n",
       "    </tr>\n",
       "    <tr>\n",
       "      <th>turningpointusa</th>\n",
       "      <td>19</td>\n",
       "    </tr>\n",
       "    <tr>\n",
       "      <th>DSouzaDinesh</th>\n",
       "      <td>19</td>\n",
       "    </tr>\n",
       "    <tr>\n",
       "      <th>rsbnetwork</th>\n",
       "      <td>18</td>\n",
       "    </tr>\n",
       "    <tr>\n",
       "      <th>drandras.aradszki</th>\n",
       "      <td>18</td>\n",
       "    </tr>\n",
       "  </tbody>\n",
       "</table>\n",
       "</div>"
      ],
      "text/plain": [
       "                      weight\n",
       "source                      \n",
       "RealAmericasVoice         43\n",
       "newsmax                   43\n",
       "PeruDMV                   42\n",
       "100002780167774           35\n",
       "DonaldJTrumpJr            31\n",
       "MarjorieTaylorGreene      27\n",
       "Conservativity            24\n",
       "DMLNewsApp                24\n",
       "Breitbart                 24\n",
       "szamokadatok              23\n",
       "dan.bongino               23\n",
       "bennyjohnson              23\n",
       "998451233647902           22\n",
       "FoxNews                   22\n",
       "141991342558232           20\n",
       "terrencekwilliams         20\n",
       "turningpointusa           19\n",
       "DSouzaDinesh              19\n",
       "rsbnetwork                18\n",
       "drandras.aradszki         18"
      ]
     },
     "execution_count": 32,
     "metadata": {},
     "output_type": "execute_result"
    }
   ],
   "source": [
    "gop_groups_weight.groupby('source').sum().sort_values(by='weight', ascending=False).head(20)"
   ]
  },
  {
   "cell_type": "markdown",
   "metadata": {},
   "source": [
    "While these information sources are prominent across the entire sample of snowball groups, it's   however we're interested in extracting groups that form clusters and constitute echo-chambers. To do that, we'll need to use a community detection algorithm to partition the network into discrete and logical communities.\n",
    "\n",
    "For our community detection algorithm, we'll create a graph object that includes all sources... "
   ]
  },
  {
   "cell_type": "code",
   "execution_count": 34,
   "metadata": {},
   "outputs": [],
   "source": [
    "G = nx.from_pandas_edgelist(gop_groups_weight, source='source', target='name', edge_attr=True)"
   ]
  },
  {
   "cell_type": "markdown",
   "metadata": {},
   "source": [
    "...and then partition the communities. "
   ]
  },
  {
   "cell_type": "code",
   "execution_count": 38,
   "metadata": {},
   "outputs": [],
   "source": [
    "def community_detection(network):\n",
    "    temp = community.girvan_newman(network)\n",
    "    temp_top = next(temp)\n",
    "    temp_next = next(temp)\n",
    "    return sorted(map(sorted, temp_next))\n",
    "\n",
    "gop_communities = community_detection(G)"
   ]
  },
  {
   "cell_type": "markdown",
   "metadata": {},
   "source": [
    "Now that we created our new graph object and partitioned our communities, we'll see how many discrete, partitioned communities were found with all targets and sources in those communities."
   ]
  },
  {
   "cell_type": "code",
   "execution_count": 39,
   "metadata": {},
   "outputs": [
    {
     "name": "stdout",
     "output_type": "stream",
     "text": [
      "0 689\n",
      "1 309\n",
      "2 161\n",
      "3 6\n",
      "4 5\n",
      "5 2\n"
     ]
    }
   ],
   "source": [
    "for idx, i in enumerate(gop_communities):\n",
    "    print(idx, len(i))"
   ]
  },
  {
   "cell_type": "markdown",
   "metadata": {},
   "source": [
    "It looks like we have three pretty large communities (0, 1, and 2) that are worth exploring. We can take a look at which groups from our snowball sample are in these respective groups. \n",
    "\n",
    "We'll write a function to extract the names of the groups in our snowball sample (gop_snowball_group_posts) and match them to their respective communities.  \n",
    "\n",
    "Then we'll see which snowball groups are in community 0."
   ]
  },
  {
   "cell_type": "code",
   "execution_count": 40,
   "metadata": {},
   "outputs": [
    {
     "data": {
      "text/html": [
       "<div>\n",
       "<style scoped>\n",
       "    .dataframe tbody tr th:only-of-type {\n",
       "        vertical-align: middle;\n",
       "    }\n",
       "\n",
       "    .dataframe tbody tr th {\n",
       "        vertical-align: top;\n",
       "    }\n",
       "\n",
       "    .dataframe thead th {\n",
       "        text-align: right;\n",
       "    }\n",
       "</style>\n",
       "<table border=\"1\" class=\"dataframe\">\n",
       "  <thead>\n",
       "    <tr style=\"text-align: right;\">\n",
       "      <th></th>\n",
       "      <th>name</th>\n",
       "      <th>posts</th>\n",
       "    </tr>\n",
       "  </thead>\n",
       "  <tbody>\n",
       "    <tr>\n",
       "      <th>0</th>\n",
       "      <td>Recall Governor Pritzker</td>\n",
       "      <td>543</td>\n",
       "    </tr>\n",
       "    <tr>\n",
       "      <th>1</th>\n",
       "      <td>TRUMP TRUTHERS</td>\n",
       "      <td>449</td>\n",
       "    </tr>\n",
       "    <tr>\n",
       "      <th>2</th>\n",
       "      <td>Trump Women Landslide 2020</td>\n",
       "      <td>428</td>\n",
       "    </tr>\n",
       "    <tr>\n",
       "      <th>3</th>\n",
       "      <td>Stuart Varney - Conservative Economic Journalist</td>\n",
       "      <td>378</td>\n",
       "    </tr>\n",
       "    <tr>\n",
       "      <th>4</th>\n",
       "      <td>Patriotic Catholics for President Trump ❤️</td>\n",
       "      <td>372</td>\n",
       "    </tr>\n",
       "    <tr>\n",
       "      <th>5</th>\n",
       "      <td>Tucker Carlson Fan Club</td>\n",
       "      <td>365</td>\n",
       "    </tr>\n",
       "    <tr>\n",
       "      <th>6</th>\n",
       "      <td>Hispanics for Trump 2020 🇺🇸🇺🇸</td>\n",
       "      <td>291</td>\n",
       "    </tr>\n",
       "    <tr>\n",
       "      <th>7</th>\n",
       "      <td>TRUMP AMERICA FOR SAFETY AND FREEDOM</td>\n",
       "      <td>284</td>\n",
       "    </tr>\n",
       "    <tr>\n",
       "      <th>8</th>\n",
       "      <td>Chad Prather Fans, Political Discussions Allow...</td>\n",
       "      <td>235</td>\n",
       "    </tr>\n",
       "    <tr>\n",
       "      <th>9</th>\n",
       "      <td>Trump Nation</td>\n",
       "      <td>187</td>\n",
       "    </tr>\n",
       "    <tr>\n",
       "      <th>10</th>\n",
       "      <td>Greenfield Citizens Association</td>\n",
       "      <td>168</td>\n",
       "    </tr>\n",
       "    <tr>\n",
       "      <th>11</th>\n",
       "      <td>Unmask Wichita / Unmask SedgCO</td>\n",
       "      <td>151</td>\n",
       "    </tr>\n",
       "    <tr>\n",
       "      <th>12</th>\n",
       "      <td>END TIME NEWS</td>\n",
       "      <td>149</td>\n",
       "    </tr>\n",
       "    <tr>\n",
       "      <th>13</th>\n",
       "      <td>Illinois Gasoline Party</td>\n",
       "      <td>148</td>\n",
       "    </tr>\n",
       "    <tr>\n",
       "      <th>14</th>\n",
       "      <td>Team Trump Hawaii</td>\n",
       "      <td>146</td>\n",
       "    </tr>\n",
       "    <tr>\n",
       "      <th>15</th>\n",
       "      <td>The Daily Ledger</td>\n",
       "      <td>132</td>\n",
       "    </tr>\n",
       "    <tr>\n",
       "      <th>16</th>\n",
       "      <td>Keep America Great Warriors</td>\n",
       "      <td>131</td>\n",
       "    </tr>\n",
       "    <tr>\n",
       "      <th>17</th>\n",
       "      <td>Orando por Presidente Trump y su Gabinete, no ...</td>\n",
       "      <td>110</td>\n",
       "    </tr>\n",
       "    <tr>\n",
       "      <th>18</th>\n",
       "      <td>The Party</td>\n",
       "      <td>104</td>\n",
       "    </tr>\n",
       "    <tr>\n",
       "      <th>19</th>\n",
       "      <td>Patriots for Trump</td>\n",
       "      <td>99</td>\n",
       "    </tr>\n",
       "    <tr>\n",
       "      <th>20</th>\n",
       "      <td>American patriots</td>\n",
       "      <td>96</td>\n",
       "    </tr>\n",
       "    <tr>\n",
       "      <th>21</th>\n",
       "      <td>Westmoreland County Republicans</td>\n",
       "      <td>83</td>\n",
       "    </tr>\n",
       "    <tr>\n",
       "      <th>22</th>\n",
       "      <td>PRESIDENT TRUMP (c)</td>\n",
       "      <td>82</td>\n",
       "    </tr>\n",
       "    <tr>\n",
       "      <th>23</th>\n",
       "      <td>FEDERAL POLITICS TOPICS Monticello Illinois Op...</td>\n",
       "      <td>61</td>\n",
       "    </tr>\n",
       "    <tr>\n",
       "      <th>24</th>\n",
       "      <td>Republicans With Balls And Backbones</td>\n",
       "      <td>58</td>\n",
       "    </tr>\n",
       "    <tr>\n",
       "      <th>25</th>\n",
       "      <td>Greenfield MA Republican Town Committee</td>\n",
       "      <td>45</td>\n",
       "    </tr>\n",
       "    <tr>\n",
       "      <th>26</th>\n",
       "      <td>Berrien County GOP</td>\n",
       "      <td>45</td>\n",
       "    </tr>\n",
       "    <tr>\n",
       "      <th>27</th>\n",
       "      <td>Yellowstone County Republican Women</td>\n",
       "      <td>38</td>\n",
       "    </tr>\n",
       "    <tr>\n",
       "      <th>28</th>\n",
       "      <td>Governor Kay Ivey Supporters</td>\n",
       "      <td>22</td>\n",
       "    </tr>\n",
       "    <tr>\n",
       "      <th>29</th>\n",
       "      <td>The Conservative Truth</td>\n",
       "      <td>19</td>\n",
       "    </tr>\n",
       "    <tr>\n",
       "      <th>30</th>\n",
       "      <td>Missouri Federation of Republican Women</td>\n",
       "      <td>19</td>\n",
       "    </tr>\n",
       "    <tr>\n",
       "      <th>31</th>\n",
       "      <td>American Patriots</td>\n",
       "      <td>19</td>\n",
       "    </tr>\n",
       "    <tr>\n",
       "      <th>32</th>\n",
       "      <td>Flip Illinois Red 2020</td>\n",
       "      <td>17</td>\n",
       "    </tr>\n",
       "    <tr>\n",
       "      <th>33</th>\n",
       "      <td>Republican Party of Murray County Georgia</td>\n",
       "      <td>9</td>\n",
       "    </tr>\n",
       "    <tr>\n",
       "      <th>34</th>\n",
       "      <td>Washburn University College Republicans</td>\n",
       "      <td>2</td>\n",
       "    </tr>\n",
       "  </tbody>\n",
       "</table>\n",
       "</div>"
      ],
      "text/plain": [
       "                                                 name  posts\n",
       "0                            Recall Governor Pritzker    543\n",
       "1                                      TRUMP TRUTHERS    449\n",
       "2                          Trump Women Landslide 2020    428\n",
       "3    Stuart Varney - Conservative Economic Journalist    378\n",
       "4          Patriotic Catholics for President Trump ❤️    372\n",
       "5                             Tucker Carlson Fan Club    365\n",
       "6                       Hispanics for Trump 2020 🇺🇸🇺🇸    291\n",
       "7                TRUMP AMERICA FOR SAFETY AND FREEDOM    284\n",
       "8   Chad Prather Fans, Political Discussions Allow...    235\n",
       "9                                        Trump Nation    187\n",
       "10                    Greenfield Citizens Association    168\n",
       "11                     Unmask Wichita / Unmask SedgCO    151\n",
       "12                                      END TIME NEWS    149\n",
       "13                            Illinois Gasoline Party    148\n",
       "14                                  Team Trump Hawaii    146\n",
       "15                                   The Daily Ledger    132\n",
       "16                        Keep America Great Warriors    131\n",
       "17  Orando por Presidente Trump y su Gabinete, no ...    110\n",
       "18                                          The Party    104\n",
       "19                                 Patriots for Trump     99\n",
       "20                                  American patriots     96\n",
       "21                    Westmoreland County Republicans     83\n",
       "22                                PRESIDENT TRUMP (c)     82\n",
       "23  FEDERAL POLITICS TOPICS Monticello Illinois Op...     61\n",
       "24               Republicans With Balls And Backbones     58\n",
       "25            Greenfield MA Republican Town Committee     45\n",
       "26                                 Berrien County GOP     45\n",
       "27                Yellowstone County Republican Women     38\n",
       "28                       Governor Kay Ivey Supporters     22\n",
       "29                             The Conservative Truth     19\n",
       "30            Missouri Federation of Republican Women     19\n",
       "31                                  American Patriots     19\n",
       "32                             Flip Illinois Red 2020     17\n",
       "33          Republican Party of Murray County Georgia      9\n",
       "34            Washburn University College Republicans      2"
      ]
     },
     "execution_count": 40,
     "metadata": {},
     "output_type": "execute_result"
    }
   ],
   "source": [
    "def community_groups(communities, com_id, snowballdata):\n",
    "    temp = pd.DataFrame(communities[com_id], columns=['name'])\n",
    "    temp_posts = snowballdata.loc[snowballdata['name'].isin(temp['name'])]\n",
    "    temp_groups = temp_posts.groupby(['name']).size().to_frame().reset_index().sort_values(by=0, ascending=False)\n",
    "    temp_groups = temp_groups.rename(columns={0: 'posts'}).reset_index(drop=True)\n",
    "    return temp_groups\n",
    "\n",
    "community_groups(gop_communities, 0, gop_snowball_group_posts)"
   ]
  },
  {
   "cell_type": "markdown",
   "metadata": {},
   "source": [
    "This appears to be a pretty obvious and substantial community of Rebuplican Facebook groups and may be a really good community of interest for evaluating influencers shaping Repubican discourse.\n",
    "\n",
    "For due diligence pruposes, we'll check the other two large communities just to see if there's another useful community."
   ]
  },
  {
   "cell_type": "code",
   "execution_count": 43,
   "metadata": {},
   "outputs": [
    {
     "data": {
      "text/html": [
       "<div>\n",
       "<style scoped>\n",
       "    .dataframe tbody tr th:only-of-type {\n",
       "        vertical-align: middle;\n",
       "    }\n",
       "\n",
       "    .dataframe tbody tr th {\n",
       "        vertical-align: top;\n",
       "    }\n",
       "\n",
       "    .dataframe thead th {\n",
       "        text-align: right;\n",
       "    }\n",
       "</style>\n",
       "<table border=\"1\" class=\"dataframe\">\n",
       "  <thead>\n",
       "    <tr style=\"text-align: right;\">\n",
       "      <th></th>\n",
       "      <th>name</th>\n",
       "      <th>posts</th>\n",
       "    </tr>\n",
       "  </thead>\n",
       "  <tbody>\n",
       "    <tr>\n",
       "      <th>0</th>\n",
       "      <td>Peruanos en DC, Maryland &amp; Virginia (DMV)</td>\n",
       "      <td>948</td>\n",
       "    </tr>\n",
       "  </tbody>\n",
       "</table>\n",
       "</div>"
      ],
      "text/plain": [
       "                                        name  posts\n",
       "0  Peruanos en DC, Maryland & Virginia (DMV)    948"
      ]
     },
     "execution_count": 43,
     "metadata": {},
     "output_type": "execute_result"
    }
   ],
   "source": [
    "community_groups(gop_communities, 1, gop_snowball_group_posts)"
   ]
  },
  {
   "cell_type": "markdown",
   "metadata": {},
   "source": [
    "Based on the name, there is no indication that this a pro-Republican group. At least one person in the group obviously shared content from the Facebook page of the Republican Party at some point."
   ]
  },
  {
   "cell_type": "code",
   "execution_count": 42,
   "metadata": {},
   "outputs": [
    {
     "data": {
      "text/html": [
       "<div>\n",
       "<style scoped>\n",
       "    .dataframe tbody tr th:only-of-type {\n",
       "        vertical-align: middle;\n",
       "    }\n",
       "\n",
       "    .dataframe tbody tr th {\n",
       "        vertical-align: top;\n",
       "    }\n",
       "\n",
       "    .dataframe thead th {\n",
       "        text-align: right;\n",
       "    }\n",
       "</style>\n",
       "<table border=\"1\" class=\"dataframe\">\n",
       "  <thead>\n",
       "    <tr style=\"text-align: right;\">\n",
       "      <th></th>\n",
       "      <th>name</th>\n",
       "      <th>posts</th>\n",
       "    </tr>\n",
       "  </thead>\n",
       "  <tbody>\n",
       "    <tr>\n",
       "      <th>0</th>\n",
       "      <td>Szeretem a FIDESZt,hisz nála jobb nincs!</td>\n",
       "      <td>1641</td>\n",
       "    </tr>\n",
       "  </tbody>\n",
       "</table>\n",
       "</div>"
      ],
      "text/plain": [
       "                                       name  posts\n",
       "0  Szeretem a FIDESZt,hisz nála jobb nincs!   1641"
      ]
     },
     "execution_count": 42,
     "metadata": {},
     "output_type": "execute_result"
    }
   ],
   "source": [
    "community_groups(gop_communities, 2, gop_snowball_group_posts)"
   ]
  },
  {
   "cell_type": "markdown",
   "metadata": {},
   "source": [
    "Again, based on the name, which seemingly refers to a Hungarian political party, there is no indication this is a pro-Republican group and it can be ignored for our purposes."
   ]
  },
  {
   "cell_type": "markdown",
   "metadata": {},
   "source": [
    "It appears that community 0 is a good community of Republican Facebook groups that could be analyzed longitudinally and evaluate who is influencing discourse over time.\n",
    "\n",
    "We'll save this community of groups..."
   ]
  },
  {
   "cell_type": "code",
   "execution_count": 45,
   "metadata": {},
   "outputs": [],
   "source": [
    "gop_community = community_groups(gop_communities, 0, gop_snowball_group_posts)"
   ]
  },
  {
   "cell_type": "markdown",
   "metadata": {},
   "source": [
    "...then we'll grab the posts from this community from our snowball sample... "
   ]
  },
  {
   "cell_type": "code",
   "execution_count": 47,
   "metadata": {},
   "outputs": [],
   "source": [
    "gop_community_groups = gop_snowball_group_posts[gop_snowball_group_posts['name'].isin(gop_community['name'])]"
   ]
  },
  {
   "cell_type": "markdown",
   "metadata": {},
   "source": [
    "...then from these posts, we'll prepare this community for batch upload to CrowdTangle and export a CSV file to do (make sure you have a list of groups in CrowdTangle that match the 'listname' you assign below)"
   ]
  },
  {
   "cell_type": "code",
   "execution_count": 48,
   "metadata": {},
   "outputs": [],
   "source": [
    "def prep_batch_from_posts(data, atype='pages', minsize=0, listname='null'):\n",
    "    df = data\n",
    "    df = df.groupby(['name', 'url', 'accountType']).size().to_frame().reset_index().sort_values(by=0, ascending=False)\n",
    "    if atype == 'pages':\n",
    "        df1 = df.loc[((df['accountType'] == 'facebook_page') & (df[0] > minsize))]\n",
    "    else: #need to fix the else to set to 'groups' as an option -- not a big deal right now\n",
    "        df1 = df.loc[((df['accountType'] == 'facebook_group') & (df[0] > minsize))]\n",
    "    df1['List'] = listname\n",
    "    df1 = df1.rename(columns={\"url\": \"Page or Account URL\"}).reset_index(drop=True)\n",
    "    return df1[['Page or Account URL', 'List']] \n",
    "\n",
    "gop_community_batch = prep_batch_from_posts(gop_community_groups, atype='groups', listname='GOP Community Groups')\n",
    "gop_community_batch.to_csv(\"gop_community_groups.csv\", index=False)"
   ]
  },
  {
   "cell_type": "markdown",
   "metadata": {},
   "source": [
    "Once you have batch uploaded the community to CrowdTangle, you can use this community to evaluate which sources of information are most influential within community over a period of time. You could also update this community at any time by re-running the code to this point and uploading fresh batches of data to CrowdTangle (Don't worry about duplication - CrowdTangle will handle duplicates and will not include the same page or group twice in a list!)"
   ]
  },
  {
   "cell_type": "markdown",
   "metadata": {},
   "source": [
    "After batch upload to CrowdTangle, you can find the list id using the get_list_info() function created earlier in the notebook."
   ]
  },
  {
   "cell_type": "code",
   "execution_count": 50,
   "metadata": {},
   "outputs": [
    {
     "data": {
      "text/plain": [
       "[{'id': 1490375, 'title': 'Republican Snowball Pages', 'type': 'LIST'},\n",
       " {'id': 1490376, 'title': 'Republican Snowball Groups', 'type': 'LIST'},\n",
       " {'id': 1490497, 'title': 'GA Republican Groups', 'type': 'LIST'},\n",
       " {'id': 1500468, 'title': 'RNC Snowball', 'type': 'LIST'},\n",
       " {'id': 1501381, 'title': 'Republican Community', 'type': 'LIST'},\n",
       " {'id': 1504991, 'title': 'Republican Community Pages', 'type': 'LIST'},\n",
       " {'id': 1519020, 'title': 'GOP Influencer Snowball Groups', 'type': 'LIST'},\n",
       " {'id': 1519132, 'title': 'GOP Community Groups', 'type': 'LIST'}]"
      ]
     },
     "execution_count": 50,
     "metadata": {},
     "output_type": "execute_result"
    }
   ],
   "source": [
    "list_info = get_list_info()\n",
    "list_info['result']['lists']"
   ]
  },
  {
   "cell_type": "markdown",
   "metadata": {},
   "source": [
    "As you can see, the newly created GOP Community Groups list has the id '1519132'\n",
    "\n",
    "If you wanted to maintain this community as a static community in which you can identify which sources are becoming more or less influential over time - as well as identifying new or emerging influencers, you could run the following code each week:"
   ]
  },
  {
   "cell_type": "markdown",
   "metadata": {},
   "source": [
    "Step 1: Get the past week's posts from the community of groups (be sure to change the date)."
   ]
  },
  {
   "cell_type": "code",
   "execution_count": 51,
   "metadata": {},
   "outputs": [
    {
     "name": "stdout",
     "output_type": "stream",
     "text": [
      "https://api.crowdtangle.com/posts?token=S3Bhx2kk4yZaiFKsW19PwlT04kW9azGHBPaI1g6s&listIds=1519132&startDate=2021-03-02&endDate=2021-03-09&count=100&sortBy=total_interactions&offset=0\n",
      "https://api.crowdtangle.com/posts?token=S3Bhx2kk4yZaiFKsW19PwlT04kW9azGHBPaI1g6s&listIds=1519132&startDate=2021-03-02&endDate=2021-03-09&count=100&sortBy=total_interactions&offset=100\n",
      "https://api.crowdtangle.com/posts?token=S3Bhx2kk4yZaiFKsW19PwlT04kW9azGHBPaI1g6s&listIds=1519132&startDate=2021-03-02&endDate=2021-03-09&count=100&sortBy=total_interactions&offset=200\n",
      "https://api.crowdtangle.com/posts?token=S3Bhx2kk4yZaiFKsW19PwlT04kW9azGHBPaI1g6s&listIds=1519132&startDate=2021-03-02&endDate=2021-03-09&count=100&sortBy=total_interactions&offset=300\n",
      "https://api.crowdtangle.com/posts?token=S3Bhx2kk4yZaiFKsW19PwlT04kW9azGHBPaI1g6s&listIds=1519132&startDate=2021-03-02&endDate=2021-03-09&count=100&sortBy=total_interactions&offset=400\n",
      "https://api.crowdtangle.com/posts?token=S3Bhx2kk4yZaiFKsW19PwlT04kW9azGHBPaI1g6s&listIds=1519132&startDate=2021-03-02&endDate=2021-03-09&count=100&sortBy=total_interactions&offset=500\n",
      "https://api.crowdtangle.com/posts?token=S3Bhx2kk4yZaiFKsW19PwlT04kW9azGHBPaI1g6s&listIds=1519132&startDate=2021-03-02&endDate=2021-03-09&count=100&sortBy=total_interactions&offset=600\n",
      "https://api.crowdtangle.com/posts?token=S3Bhx2kk4yZaiFKsW19PwlT04kW9azGHBPaI1g6s&listIds=1519132&startDate=2021-03-02&endDate=2021-03-09&count=100&sortBy=total_interactions&offset=700\n",
      "https://api.crowdtangle.com/posts?token=S3Bhx2kk4yZaiFKsW19PwlT04kW9azGHBPaI1g6s&listIds=1519132&startDate=2021-03-02&endDate=2021-03-09&count=100&sortBy=total_interactions&offset=800\n",
      "https://api.crowdtangle.com/posts?token=S3Bhx2kk4yZaiFKsW19PwlT04kW9azGHBPaI1g6s&listIds=1519132&startDate=2021-03-02&endDate=2021-03-09&count=100&sortBy=total_interactions&offset=900\n",
      "https://api.crowdtangle.com/posts?token=S3Bhx2kk4yZaiFKsW19PwlT04kW9azGHBPaI1g6s&listIds=1519132&startDate=2021-03-02&endDate=2021-03-09&count=100&sortBy=total_interactions&offset=1000\n",
      "https://api.crowdtangle.com/posts?token=S3Bhx2kk4yZaiFKsW19PwlT04kW9azGHBPaI1g6s&listIds=1519132&startDate=2021-03-02&endDate=2021-03-09&count=100&sortBy=total_interactions&offset=1100\n",
      "https://api.crowdtangle.com/posts?token=S3Bhx2kk4yZaiFKsW19PwlT04kW9azGHBPaI1g6s&listIds=1519132&startDate=2021-03-02&endDate=2021-03-09&count=100&sortBy=total_interactions&offset=1200\n",
      "https://api.crowdtangle.com/posts?token=S3Bhx2kk4yZaiFKsW19PwlT04kW9azGHBPaI1g6s&listIds=1519132&startDate=2021-03-02&endDate=2021-03-09&count=100&sortBy=total_interactions&offset=1300\n",
      "https://api.crowdtangle.com/posts?token=S3Bhx2kk4yZaiFKsW19PwlT04kW9azGHBPaI1g6s&listIds=1519132&startDate=2021-03-02&endDate=2021-03-09&count=100&sortBy=total_interactions&offset=1400\n",
      "https://api.crowdtangle.com/posts?token=S3Bhx2kk4yZaiFKsW19PwlT04kW9azGHBPaI1g6s&listIds=1519132&startDate=2021-03-02&endDate=2021-03-09&count=100&sortBy=total_interactions&offset=1500\n",
      "https://api.crowdtangle.com/posts?token=S3Bhx2kk4yZaiFKsW19PwlT04kW9azGHBPaI1g6s&listIds=1519132&startDate=2021-03-02&endDate=2021-03-09&count=100&sortBy=total_interactions&offset=1600\n",
      "https://api.crowdtangle.com/posts?token=S3Bhx2kk4yZaiFKsW19PwlT04kW9azGHBPaI1g6s&listIds=1519132&startDate=2021-03-02&endDate=2021-03-09&count=100&sortBy=total_interactions&offset=1700\n",
      "https://api.crowdtangle.com/posts?token=S3Bhx2kk4yZaiFKsW19PwlT04kW9azGHBPaI1g6s&listIds=1519132&startDate=2021-03-02&endDate=2021-03-09&count=100&sortBy=total_interactions&offset=1800\n",
      "https://api.crowdtangle.com/posts?token=S3Bhx2kk4yZaiFKsW19PwlT04kW9azGHBPaI1g6s&listIds=1519132&startDate=2021-03-02&endDate=2021-03-09&count=100&sortBy=total_interactions&offset=1900\n",
      "https://api.crowdtangle.com/posts?token=S3Bhx2kk4yZaiFKsW19PwlT04kW9azGHBPaI1g6s&listIds=1519132&startDate=2021-03-02&endDate=2021-03-09&count=100&sortBy=total_interactions&offset=2000\n",
      "https://api.crowdtangle.com/posts?token=S3Bhx2kk4yZaiFKsW19PwlT04kW9azGHBPaI1g6s&listIds=1519132&startDate=2021-03-02&endDate=2021-03-09&count=100&sortBy=total_interactions&offset=2100\n",
      "https://api.crowdtangle.com/posts?token=S3Bhx2kk4yZaiFKsW19PwlT04kW9azGHBPaI1g6s&listIds=1519132&startDate=2021-03-02&endDate=2021-03-09&count=100&sortBy=total_interactions&offset=2200\n",
      "https://api.crowdtangle.com/posts?token=S3Bhx2kk4yZaiFKsW19PwlT04kW9azGHBPaI1g6s&listIds=1519132&startDate=2021-03-02&endDate=2021-03-09&count=100&sortBy=total_interactions&offset=2300\n",
      "https://api.crowdtangle.com/posts?token=S3Bhx2kk4yZaiFKsW19PwlT04kW9azGHBPaI1g6s&listIds=1519132&startDate=2021-03-02&endDate=2021-03-09&count=100&sortBy=total_interactions&offset=2400\n",
      "https://api.crowdtangle.com/posts?token=S3Bhx2kk4yZaiFKsW19PwlT04kW9azGHBPaI1g6s&listIds=1519132&startDate=2021-03-02&endDate=2021-03-09&count=100&sortBy=total_interactions&offset=2500\n",
      "https://api.crowdtangle.com/posts?token=S3Bhx2kk4yZaiFKsW19PwlT04kW9azGHBPaI1g6s&listIds=1519132&startDate=2021-03-02&endDate=2021-03-09&count=100&sortBy=total_interactions&offset=2600\n",
      "https://api.crowdtangle.com/posts?token=S3Bhx2kk4yZaiFKsW19PwlT04kW9azGHBPaI1g6s&listIds=1519132&startDate=2021-03-02&endDate=2021-03-09&count=100&sortBy=total_interactions&offset=2700\n",
      "https://api.crowdtangle.com/posts?token=S3Bhx2kk4yZaiFKsW19PwlT04kW9azGHBPaI1g6s&listIds=1519132&startDate=2021-03-02&endDate=2021-03-09&count=100&sortBy=total_interactions&offset=2800\n",
      "https://api.crowdtangle.com/posts?token=S3Bhx2kk4yZaiFKsW19PwlT04kW9azGHBPaI1g6s&listIds=1519132&startDate=2021-03-02&endDate=2021-03-09&count=100&sortBy=total_interactions&offset=2900\n",
      "https://api.crowdtangle.com/posts?token=S3Bhx2kk4yZaiFKsW19PwlT04kW9azGHBPaI1g6s&listIds=1519132&startDate=2021-03-02&endDate=2021-03-09&count=100&sortBy=total_interactions&offset=3000\n",
      "https://api.crowdtangle.com/posts?token=S3Bhx2kk4yZaiFKsW19PwlT04kW9azGHBPaI1g6s&listIds=1519132&startDate=2021-03-02&endDate=2021-03-09&count=100&sortBy=total_interactions&offset=3100\n",
      "https://api.crowdtangle.com/posts?token=S3Bhx2kk4yZaiFKsW19PwlT04kW9azGHBPaI1g6s&listIds=1519132&startDate=2021-03-02&endDate=2021-03-09&count=100&sortBy=total_interactions&offset=3200\n",
      "https://api.crowdtangle.com/posts?token=S3Bhx2kk4yZaiFKsW19PwlT04kW9azGHBPaI1g6s&listIds=1519132&startDate=2021-03-02&endDate=2021-03-09&count=100&sortBy=total_interactions&offset=3300\n",
      "https://api.crowdtangle.com/posts?token=S3Bhx2kk4yZaiFKsW19PwlT04kW9azGHBPaI1g6s&listIds=1519132&startDate=2021-03-02&endDate=2021-03-09&count=100&sortBy=total_interactions&offset=3400\n",
      "https://api.crowdtangle.com/posts?token=S3Bhx2kk4yZaiFKsW19PwlT04kW9azGHBPaI1g6s&listIds=1519132&startDate=2021-03-02&endDate=2021-03-09&count=100&sortBy=total_interactions&offset=3500\n",
      "https://api.crowdtangle.com/posts?token=S3Bhx2kk4yZaiFKsW19PwlT04kW9azGHBPaI1g6s&listIds=1519132&startDate=2021-03-02&endDate=2021-03-09&count=100&sortBy=total_interactions&offset=3600\n",
      "https://api.crowdtangle.com/posts?token=S3Bhx2kk4yZaiFKsW19PwlT04kW9azGHBPaI1g6s&listIds=1519132&startDate=2021-03-02&endDate=2021-03-09&count=100&sortBy=total_interactions&offset=3700\n",
      "https://api.crowdtangle.com/posts?token=S3Bhx2kk4yZaiFKsW19PwlT04kW9azGHBPaI1g6s&listIds=1519132&startDate=2021-03-02&endDate=2021-03-09&count=100&sortBy=total_interactions&offset=3800\n",
      "https://api.crowdtangle.com/posts?token=S3Bhx2kk4yZaiFKsW19PwlT04kW9azGHBPaI1g6s&listIds=1519132&startDate=2021-03-02&endDate=2021-03-09&count=100&sortBy=total_interactions&offset=3900\n",
      "https://api.crowdtangle.com/posts?token=S3Bhx2kk4yZaiFKsW19PwlT04kW9azGHBPaI1g6s&listIds=1519132&startDate=2021-03-02&endDate=2021-03-09&count=100&sortBy=total_interactions&offset=4000\n",
      "https://api.crowdtangle.com/posts?token=S3Bhx2kk4yZaiFKsW19PwlT04kW9azGHBPaI1g6s&listIds=1519132&startDate=2021-03-02&endDate=2021-03-09&count=100&sortBy=total_interactions&offset=4100\n",
      "https://api.crowdtangle.com/posts?token=S3Bhx2kk4yZaiFKsW19PwlT04kW9azGHBPaI1g6s&listIds=1519132&startDate=2021-03-02&endDate=2021-03-09&count=100&sortBy=total_interactions&offset=4200\n",
      "https://api.crowdtangle.com/posts?token=S3Bhx2kk4yZaiFKsW19PwlT04kW9azGHBPaI1g6s&listIds=1519132&startDate=2021-03-02&endDate=2021-03-09&count=100&sortBy=total_interactions&offset=4300\n",
      "https://api.crowdtangle.com/posts?token=S3Bhx2kk4yZaiFKsW19PwlT04kW9azGHBPaI1g6s&listIds=1519132&startDate=2021-03-02&endDate=2021-03-09&count=100&sortBy=total_interactions&offset=4400\n"
     ]
    },
    {
     "name": "stdout",
     "output_type": "stream",
     "text": [
      "https://api.crowdtangle.com/posts?token=S3Bhx2kk4yZaiFKsW19PwlT04kW9azGHBPaI1g6s&listIds=1519132&startDate=2021-03-02&endDate=2021-03-09&count=100&sortBy=total_interactions&offset=4500\n",
      "https://api.crowdtangle.com/posts?token=S3Bhx2kk4yZaiFKsW19PwlT04kW9azGHBPaI1g6s&listIds=1519132&startDate=2021-03-02&endDate=2021-03-09&count=100&sortBy=total_interactions&offset=4600\n",
      "https://api.crowdtangle.com/posts?token=S3Bhx2kk4yZaiFKsW19PwlT04kW9azGHBPaI1g6s&listIds=1519132&startDate=2021-03-02&endDate=2021-03-09&count=100&sortBy=total_interactions&offset=4700\n",
      "https://api.crowdtangle.com/posts?token=S3Bhx2kk4yZaiFKsW19PwlT04kW9azGHBPaI1g6s&listIds=1519132&startDate=2021-03-02&endDate=2021-03-09&count=100&sortBy=total_interactions&offset=4800\n",
      "https://api.crowdtangle.com/posts?token=S3Bhx2kk4yZaiFKsW19PwlT04kW9azGHBPaI1g6s&listIds=1519132&startDate=2021-03-02&endDate=2021-03-09&count=100&sortBy=total_interactions&offset=4900\n",
      "https://api.crowdtangle.com/posts?token=S3Bhx2kk4yZaiFKsW19PwlT04kW9azGHBPaI1g6s&listIds=1519132&startDate=2021-03-02&endDate=2021-03-09&count=100&sortBy=total_interactions&offset=5000\n",
      "https://api.crowdtangle.com/posts?token=S3Bhx2kk4yZaiFKsW19PwlT04kW9azGHBPaI1g6s&listIds=1519132&startDate=2021-03-02&endDate=2021-03-09&count=100&sortBy=total_interactions&offset=5100\n",
      "https://api.crowdtangle.com/posts?token=S3Bhx2kk4yZaiFKsW19PwlT04kW9azGHBPaI1g6s&listIds=1519132&startDate=2021-03-02&endDate=2021-03-09&count=100&sortBy=total_interactions&offset=5200\n",
      "https://api.crowdtangle.com/posts?token=S3Bhx2kk4yZaiFKsW19PwlT04kW9azGHBPaI1g6s&listIds=1519132&startDate=2021-03-02&endDate=2021-03-09&count=100&sortBy=total_interactions&offset=5300\n",
      "https://api.crowdtangle.com/posts?token=S3Bhx2kk4yZaiFKsW19PwlT04kW9azGHBPaI1g6s&listIds=1519132&startDate=2021-03-02&endDate=2021-03-09&count=100&sortBy=total_interactions&offset=5400\n",
      "https://api.crowdtangle.com/posts?token=S3Bhx2kk4yZaiFKsW19PwlT04kW9azGHBPaI1g6s&listIds=1519132&startDate=2021-03-02&endDate=2021-03-09&count=100&sortBy=total_interactions&offset=5500\n",
      "https://api.crowdtangle.com/posts?token=S3Bhx2kk4yZaiFKsW19PwlT04kW9azGHBPaI1g6s&listIds=1519132&startDate=2021-03-02&endDate=2021-03-09&count=100&sortBy=total_interactions&offset=5600\n",
      "https://api.crowdtangle.com/posts?token=S3Bhx2kk4yZaiFKsW19PwlT04kW9azGHBPaI1g6s&listIds=1519132&startDate=2021-03-02&endDate=2021-03-09&count=100&sortBy=total_interactions&offset=5700\n",
      "https://api.crowdtangle.com/posts?token=S3Bhx2kk4yZaiFKsW19PwlT04kW9azGHBPaI1g6s&listIds=1519132&startDate=2021-03-02&endDate=2021-03-09&count=100&sortBy=total_interactions&offset=5800\n",
      "https://api.crowdtangle.com/posts?token=S3Bhx2kk4yZaiFKsW19PwlT04kW9azGHBPaI1g6s&listIds=1519132&startDate=2021-03-02&endDate=2021-03-09&count=100&sortBy=total_interactions&offset=5900\n",
      "https://api.crowdtangle.com/posts?token=S3Bhx2kk4yZaiFKsW19PwlT04kW9azGHBPaI1g6s&listIds=1519132&startDate=2021-03-02&endDate=2021-03-09&count=100&sortBy=total_interactions&offset=6000\n",
      "https://api.crowdtangle.com/posts?token=S3Bhx2kk4yZaiFKsW19PwlT04kW9azGHBPaI1g6s&listIds=1519132&startDate=2021-03-02&endDate=2021-03-09&count=100&sortBy=total_interactions&offset=6100\n",
      "https://api.crowdtangle.com/posts?token=S3Bhx2kk4yZaiFKsW19PwlT04kW9azGHBPaI1g6s&listIds=1519132&startDate=2021-03-02&endDate=2021-03-09&count=100&sortBy=total_interactions&offset=6200\n",
      "https://api.crowdtangle.com/posts?token=S3Bhx2kk4yZaiFKsW19PwlT04kW9azGHBPaI1g6s&listIds=1519132&startDate=2021-03-02&endDate=2021-03-09&count=100&sortBy=total_interactions&offset=6300\n",
      "https://api.crowdtangle.com/posts?token=S3Bhx2kk4yZaiFKsW19PwlT04kW9azGHBPaI1g6s&listIds=1519132&startDate=2021-03-02&endDate=2021-03-09&count=100&sortBy=total_interactions&offset=6400\n",
      "https://api.crowdtangle.com/posts?token=S3Bhx2kk4yZaiFKsW19PwlT04kW9azGHBPaI1g6s&listIds=1519132&startDate=2021-03-02&endDate=2021-03-09&count=100&sortBy=total_interactions&offset=6500\n",
      "https://api.crowdtangle.com/posts?token=S3Bhx2kk4yZaiFKsW19PwlT04kW9azGHBPaI1g6s&listIds=1519132&startDate=2021-03-02&endDate=2021-03-09&count=100&sortBy=total_interactions&offset=6600\n",
      "https://api.crowdtangle.com/posts?token=S3Bhx2kk4yZaiFKsW19PwlT04kW9azGHBPaI1g6s&listIds=1519132&startDate=2021-03-02&endDate=2021-03-09&count=100&sortBy=total_interactions&offset=6700\n",
      "https://api.crowdtangle.com/posts?token=S3Bhx2kk4yZaiFKsW19PwlT04kW9azGHBPaI1g6s&listIds=1519132&startDate=2021-03-02&endDate=2021-03-09&count=100&sortBy=total_interactions&offset=6800\n",
      "https://api.crowdtangle.com/posts?token=S3Bhx2kk4yZaiFKsW19PwlT04kW9azGHBPaI1g6s&listIds=1519132&startDate=2021-03-02&endDate=2021-03-09&count=100&sortBy=total_interactions&offset=6900\n",
      "https://api.crowdtangle.com/posts?token=S3Bhx2kk4yZaiFKsW19PwlT04kW9azGHBPaI1g6s&listIds=1519132&startDate=2021-03-02&endDate=2021-03-09&count=100&sortBy=total_interactions&offset=7000\n",
      "https://api.crowdtangle.com/posts?token=S3Bhx2kk4yZaiFKsW19PwlT04kW9azGHBPaI1g6s&listIds=1519132&startDate=2021-03-02&endDate=2021-03-09&count=100&sortBy=total_interactions&offset=7100\n",
      "https://api.crowdtangle.com/posts?token=S3Bhx2kk4yZaiFKsW19PwlT04kW9azGHBPaI1g6s&listIds=1519132&startDate=2021-03-02&endDate=2021-03-09&count=100&sortBy=total_interactions&offset=7200\n",
      "https://api.crowdtangle.com/posts?token=S3Bhx2kk4yZaiFKsW19PwlT04kW9azGHBPaI1g6s&listIds=1519132&startDate=2021-03-02&endDate=2021-03-09&count=100&sortBy=total_interactions&offset=7300\n",
      "https://api.crowdtangle.com/posts?token=S3Bhx2kk4yZaiFKsW19PwlT04kW9azGHBPaI1g6s&listIds=1519132&startDate=2021-03-02&endDate=2021-03-09&count=100&sortBy=total_interactions&offset=7400\n",
      "https://api.crowdtangle.com/posts?token=S3Bhx2kk4yZaiFKsW19PwlT04kW9azGHBPaI1g6s&listIds=1519132&startDate=2021-03-02&endDate=2021-03-09&count=100&sortBy=total_interactions&offset=7500\n",
      "https://api.crowdtangle.com/posts?token=S3Bhx2kk4yZaiFKsW19PwlT04kW9azGHBPaI1g6s&listIds=1519132&startDate=2021-03-02&endDate=2021-03-09&count=100&sortBy=total_interactions&offset=7600\n",
      "https://api.crowdtangle.com/posts?token=S3Bhx2kk4yZaiFKsW19PwlT04kW9azGHBPaI1g6s&listIds=1519132&startDate=2021-03-02&endDate=2021-03-09&count=100&sortBy=total_interactions&offset=7700\n",
      "https://api.crowdtangle.com/posts?token=S3Bhx2kk4yZaiFKsW19PwlT04kW9azGHBPaI1g6s&listIds=1519132&startDate=2021-03-02&endDate=2021-03-09&count=100&sortBy=total_interactions&offset=7800\n",
      "https://api.crowdtangle.com/posts?token=S3Bhx2kk4yZaiFKsW19PwlT04kW9azGHBPaI1g6s&listIds=1519132&startDate=2021-03-02&endDate=2021-03-09&count=100&sortBy=total_interactions&offset=7900\n",
      "https://api.crowdtangle.com/posts?token=S3Bhx2kk4yZaiFKsW19PwlT04kW9azGHBPaI1g6s&listIds=1519132&startDate=2021-03-02&endDate=2021-03-09&count=100&sortBy=total_interactions&offset=8000\n",
      "https://api.crowdtangle.com/posts?token=S3Bhx2kk4yZaiFKsW19PwlT04kW9azGHBPaI1g6s&listIds=1519132&startDate=2021-03-02&endDate=2021-03-09&count=100&sortBy=total_interactions&offset=8100\n",
      "https://api.crowdtangle.com/posts?token=S3Bhx2kk4yZaiFKsW19PwlT04kW9azGHBPaI1g6s&listIds=1519132&startDate=2021-03-02&endDate=2021-03-09&count=100&sortBy=total_interactions&offset=8200\n",
      "https://api.crowdtangle.com/posts?token=S3Bhx2kk4yZaiFKsW19PwlT04kW9azGHBPaI1g6s&listIds=1519132&startDate=2021-03-02&endDate=2021-03-09&count=100&sortBy=total_interactions&offset=8300\n",
      "https://api.crowdtangle.com/posts?token=S3Bhx2kk4yZaiFKsW19PwlT04kW9azGHBPaI1g6s&listIds=1519132&startDate=2021-03-02&endDate=2021-03-09&count=100&sortBy=total_interactions&offset=8400\n",
      "https://api.crowdtangle.com/posts?token=S3Bhx2kk4yZaiFKsW19PwlT04kW9azGHBPaI1g6s&listIds=1519132&startDate=2021-03-02&endDate=2021-03-09&count=100&sortBy=total_interactions&offset=8500\n",
      "https://api.crowdtangle.com/posts?token=S3Bhx2kk4yZaiFKsW19PwlT04kW9azGHBPaI1g6s&listIds=1519132&startDate=2021-03-02&endDate=2021-03-09&count=100&sortBy=total_interactions&offset=8600\n",
      "https://api.crowdtangle.com/posts?token=S3Bhx2kk4yZaiFKsW19PwlT04kW9azGHBPaI1g6s&listIds=1519132&startDate=2021-03-02&endDate=2021-03-09&count=100&sortBy=total_interactions&offset=8700\n",
      "https://api.crowdtangle.com/posts?token=S3Bhx2kk4yZaiFKsW19PwlT04kW9azGHBPaI1g6s&listIds=1519132&startDate=2021-03-02&endDate=2021-03-09&count=100&sortBy=total_interactions&offset=8800\n",
      "https://api.crowdtangle.com/posts?token=S3Bhx2kk4yZaiFKsW19PwlT04kW9azGHBPaI1g6s&listIds=1519132&startDate=2021-03-02&endDate=2021-03-09&count=100&sortBy=total_interactions&offset=8900\n"
     ]
    },
    {
     "name": "stdout",
     "output_type": "stream",
     "text": [
      "https://api.crowdtangle.com/posts?token=S3Bhx2kk4yZaiFKsW19PwlT04kW9azGHBPaI1g6s&listIds=1519132&startDate=2021-03-02&endDate=2021-03-09&count=100&sortBy=total_interactions&offset=9000\n",
      "https://api.crowdtangle.com/posts?token=S3Bhx2kk4yZaiFKsW19PwlT04kW9azGHBPaI1g6s&listIds=1519132&startDate=2021-03-02&endDate=2021-03-09&count=100&sortBy=total_interactions&offset=9100\n",
      "https://api.crowdtangle.com/posts?token=S3Bhx2kk4yZaiFKsW19PwlT04kW9azGHBPaI1g6s&listIds=1519132&startDate=2021-03-02&endDate=2021-03-09&count=100&sortBy=total_interactions&offset=9200\n",
      "https://api.crowdtangle.com/posts?token=S3Bhx2kk4yZaiFKsW19PwlT04kW9azGHBPaI1g6s&listIds=1519132&startDate=2021-03-02&endDate=2021-03-09&count=100&sortBy=total_interactions&offset=9300\n",
      "https://api.crowdtangle.com/posts?token=S3Bhx2kk4yZaiFKsW19PwlT04kW9azGHBPaI1g6s&listIds=1519132&startDate=2021-03-02&endDate=2021-03-09&count=100&sortBy=total_interactions&offset=9400\n",
      "https://api.crowdtangle.com/posts?token=S3Bhx2kk4yZaiFKsW19PwlT04kW9azGHBPaI1g6s&listIds=1519132&startDate=2021-03-02&endDate=2021-03-09&count=100&sortBy=total_interactions&offset=9500\n",
      "https://api.crowdtangle.com/posts?token=S3Bhx2kk4yZaiFKsW19PwlT04kW9azGHBPaI1g6s&listIds=1519132&startDate=2021-03-02&endDate=2021-03-09&count=100&sortBy=total_interactions&offset=9600\n",
      "https://api.crowdtangle.com/posts?token=S3Bhx2kk4yZaiFKsW19PwlT04kW9azGHBPaI1g6s&listIds=1519132&startDate=2021-03-02&endDate=2021-03-09&count=100&sortBy=total_interactions&offset=9700\n",
      "https://api.crowdtangle.com/posts?token=S3Bhx2kk4yZaiFKsW19PwlT04kW9azGHBPaI1g6s&listIds=1519132&startDate=2021-03-02&endDate=2021-03-09&count=100&sortBy=total_interactions&offset=9800\n",
      "https://api.crowdtangle.com/posts?token=S3Bhx2kk4yZaiFKsW19PwlT04kW9azGHBPaI1g6s&listIds=1519132&startDate=2021-03-02&endDate=2021-03-09&count=100&sortBy=total_interactions&offset=9900\n"
     ]
    }
   ],
   "source": [
    "idx = '1519132' #GOP Community Groups \n",
    "start = '2021-03-02' #March 2 2021\n",
    "end = '2021-03-09' #March 2021\n",
    "allposts = []\n",
    "get_posts()"
   ]
  },
  {
   "cell_type": "markdown",
   "metadata": {},
   "source": [
    "Step 2: Convert posts to dataframe"
   ]
  },
  {
   "cell_type": "code",
   "execution_count": 52,
   "metadata": {},
   "outputs": [],
   "source": [
    "gop_community_posts = posts_toframe(allposts)"
   ]
  },
  {
   "cell_type": "markdown",
   "metadata": {},
   "source": [
    "Step 3: Clean posts dataframe"
   ]
  },
  {
   "cell_type": "code",
   "execution_count": 53,
   "metadata": {},
   "outputs": [],
   "source": [
    "gop_community_posts = gop_community_posts.drop([0], axis=1) #removes all columns with name '0'\n",
    "gop_community_posts = gop_community_posts.drop(['expandedLinks', 'media', 'expected'], axis=1) #removes columns which have list objects as values"
   ]
  },
  {
   "cell_type": "markdown",
   "metadata": {},
   "source": [
    "Step 4: Use prep_sna_group() function to isolate targets and sources"
   ]
  },
  {
   "cell_type": "code",
   "execution_count": 54,
   "metadata": {},
   "outputs": [],
   "source": [
    "gop_community_pairs = prep_sna_group(gop_community_posts) "
   ]
  },
  {
   "cell_type": "markdown",
   "metadata": {},
   "source": [
    "Step 5: Subset the dataframe and rename the columns"
   ]
  },
  {
   "cell_type": "code",
   "execution_count": 56,
   "metadata": {},
   "outputs": [],
   "source": [
    "gop_community_pairs = gop_community_pairs[['name','target','source']]\n",
    "gop_community_pairs = gop_community_pairs[pd.notnull(gop_community_pairs['source'])]"
   ]
  },
  {
   "cell_type": "markdown",
   "metadata": {},
   "source": [
    "Step 6: Get the weight of sources in the dataframe"
   ]
  },
  {
   "cell_type": "code",
   "execution_count": 57,
   "metadata": {},
   "outputs": [],
   "source": [
    "gop_community_weight = pd.DataFrame(gop_community_pairs.groupby(['name', 'target', 'source']).size().reset_index())\n",
    "gop_community_weight = gop_community_weight.rename(columns={0: 'weight'}).reset_index(drop=True)\n",
    "gop_community_weight = gop_community_weight.sort_values(by='weight', ascending=False).reset_index(drop=True)"
   ]
  },
  {
   "cell_type": "markdown",
   "metadata": {},
   "source": [
    "Step 7: Sort sources by weight to identify the top 50 most influential sources "
   ]
  },
  {
   "cell_type": "code",
   "execution_count": 66,
   "metadata": {},
   "outputs": [
    {
     "data": {
      "text/html": [
       "<div>\n",
       "<style scoped>\n",
       "    .dataframe tbody tr th:only-of-type {\n",
       "        vertical-align: middle;\n",
       "    }\n",
       "\n",
       "    .dataframe tbody tr th {\n",
       "        vertical-align: top;\n",
       "    }\n",
       "\n",
       "    .dataframe thead th {\n",
       "        text-align: right;\n",
       "    }\n",
       "</style>\n",
       "<table border=\"1\" class=\"dataframe\">\n",
       "  <thead>\n",
       "    <tr style=\"text-align: right;\">\n",
       "      <th></th>\n",
       "      <th>source</th>\n",
       "      <th>weight</th>\n",
       "    </tr>\n",
       "  </thead>\n",
       "  <tbody>\n",
       "    <tr>\n",
       "      <th>0</th>\n",
       "      <td>RealAmericasVoice</td>\n",
       "      <td>43</td>\n",
       "    </tr>\n",
       "    <tr>\n",
       "      <th>1</th>\n",
       "      <td>newsmax</td>\n",
       "      <td>43</td>\n",
       "    </tr>\n",
       "    <tr>\n",
       "      <th>2</th>\n",
       "      <td>DonaldJTrumpJr</td>\n",
       "      <td>31</td>\n",
       "    </tr>\n",
       "    <tr>\n",
       "      <th>3</th>\n",
       "      <td>MarjorieTaylorGreene</td>\n",
       "      <td>27</td>\n",
       "    </tr>\n",
       "    <tr>\n",
       "      <th>4</th>\n",
       "      <td>Breitbart</td>\n",
       "      <td>24</td>\n",
       "    </tr>\n",
       "    <tr>\n",
       "      <th>5</th>\n",
       "      <td>Conservativity</td>\n",
       "      <td>24</td>\n",
       "    </tr>\n",
       "    <tr>\n",
       "      <th>6</th>\n",
       "      <td>DMLNewsApp</td>\n",
       "      <td>24</td>\n",
       "    </tr>\n",
       "    <tr>\n",
       "      <th>7</th>\n",
       "      <td>bennyjohnson</td>\n",
       "      <td>23</td>\n",
       "    </tr>\n",
       "    <tr>\n",
       "      <th>8</th>\n",
       "      <td>dan.bongino</td>\n",
       "      <td>23</td>\n",
       "    </tr>\n",
       "    <tr>\n",
       "      <th>9</th>\n",
       "      <td>FoxNews</td>\n",
       "      <td>22</td>\n",
       "    </tr>\n",
       "    <tr>\n",
       "      <th>10</th>\n",
       "      <td>terrencekwilliams</td>\n",
       "      <td>20</td>\n",
       "    </tr>\n",
       "    <tr>\n",
       "      <th>11</th>\n",
       "      <td>141991342558232</td>\n",
       "      <td>20</td>\n",
       "    </tr>\n",
       "    <tr>\n",
       "      <th>12</th>\n",
       "      <td>DSouzaDinesh</td>\n",
       "      <td>19</td>\n",
       "    </tr>\n",
       "    <tr>\n",
       "      <th>13</th>\n",
       "      <td>turningpointusa</td>\n",
       "      <td>19</td>\n",
       "    </tr>\n",
       "    <tr>\n",
       "      <th>14</th>\n",
       "      <td>rsbnetwork</td>\n",
       "      <td>18</td>\n",
       "    </tr>\n",
       "    <tr>\n",
       "      <th>15</th>\n",
       "      <td>judgejeaninepirro</td>\n",
       "      <td>17</td>\n",
       "    </tr>\n",
       "    <tr>\n",
       "      <th>16</th>\n",
       "      <td>realstudentsfortrump</td>\n",
       "      <td>17</td>\n",
       "    </tr>\n",
       "    <tr>\n",
       "      <th>17</th>\n",
       "      <td>thesweetlewspecial</td>\n",
       "      <td>17</td>\n",
       "    </tr>\n",
       "    <tr>\n",
       "      <th>18</th>\n",
       "      <td>123192635089</td>\n",
       "      <td>17</td>\n",
       "    </tr>\n",
       "    <tr>\n",
       "      <th>19</th>\n",
       "      <td>Americanvoicesthedailycaller</td>\n",
       "      <td>16</td>\n",
       "    </tr>\n",
       "    <tr>\n",
       "      <th>20</th>\n",
       "      <td>GOP</td>\n",
       "      <td>14</td>\n",
       "    </tr>\n",
       "    <tr>\n",
       "      <th>21</th>\n",
       "      <td>JaySekulow</td>\n",
       "      <td>14</td>\n",
       "    </tr>\n",
       "    <tr>\n",
       "      <th>22</th>\n",
       "      <td>youngamericasfoundation</td>\n",
       "      <td>14</td>\n",
       "    </tr>\n",
       "    <tr>\n",
       "      <th>23</th>\n",
       "      <td>officialbenshapiro</td>\n",
       "      <td>14</td>\n",
       "    </tr>\n",
       "    <tr>\n",
       "      <th>24</th>\n",
       "      <td>themarkkaye</td>\n",
       "      <td>14</td>\n",
       "    </tr>\n",
       "    <tr>\n",
       "      <th>25</th>\n",
       "      <td>events</td>\n",
       "      <td>13</td>\n",
       "    </tr>\n",
       "    <tr>\n",
       "      <th>26</th>\n",
       "      <td>realCharlieKirk</td>\n",
       "      <td>11</td>\n",
       "    </tr>\n",
       "    <tr>\n",
       "      <th>27</th>\n",
       "      <td>1167467090082059</td>\n",
       "      <td>11</td>\n",
       "    </tr>\n",
       "    <tr>\n",
       "      <th>28</th>\n",
       "      <td>kirkcameron</td>\n",
       "      <td>10</td>\n",
       "    </tr>\n",
       "    <tr>\n",
       "      <th>29</th>\n",
       "      <td>PatriotPost</td>\n",
       "      <td>9</td>\n",
       "    </tr>\n",
       "    <tr>\n",
       "      <th>30</th>\n",
       "      <td>OscarElBlue</td>\n",
       "      <td>9</td>\n",
       "    </tr>\n",
       "    <tr>\n",
       "      <th>31</th>\n",
       "      <td>RSC.GOP</td>\n",
       "      <td>8</td>\n",
       "    </tr>\n",
       "    <tr>\n",
       "      <th>32</th>\n",
       "      <td>51052893175</td>\n",
       "      <td>8</td>\n",
       "    </tr>\n",
       "    <tr>\n",
       "      <th>33</th>\n",
       "      <td>yaliberty</td>\n",
       "      <td>8</td>\n",
       "    </tr>\n",
       "    <tr>\n",
       "      <th>34</th>\n",
       "      <td>mayrafloresforcongress</td>\n",
       "      <td>8</td>\n",
       "    </tr>\n",
       "    <tr>\n",
       "      <th>35</th>\n",
       "      <td>RepKevinMcCarthy</td>\n",
       "      <td>8</td>\n",
       "    </tr>\n",
       "    <tr>\n",
       "      <th>36</th>\n",
       "      <td>DailyCaller</td>\n",
       "      <td>8</td>\n",
       "    </tr>\n",
       "    <tr>\n",
       "      <th>37</th>\n",
       "      <td>DrScottJensen</td>\n",
       "      <td>7</td>\n",
       "    </tr>\n",
       "    <tr>\n",
       "      <th>38</th>\n",
       "      <td>ben.stolen.7906</td>\n",
       "      <td>7</td>\n",
       "    </tr>\n",
       "    <tr>\n",
       "      <th>39</th>\n",
       "      <td>TheFirstonTV</td>\n",
       "      <td>7</td>\n",
       "    </tr>\n",
       "    <tr>\n",
       "      <th>40</th>\n",
       "      <td>111677527294728</td>\n",
       "      <td>7</td>\n",
       "    </tr>\n",
       "    <tr>\n",
       "      <th>41</th>\n",
       "      <td>BlazeMedia</td>\n",
       "      <td>7</td>\n",
       "    </tr>\n",
       "    <tr>\n",
       "      <th>42</th>\n",
       "      <td>GlennBeck</td>\n",
       "      <td>7</td>\n",
       "    </tr>\n",
       "    <tr>\n",
       "      <th>43</th>\n",
       "      <td>DavidJHarrisJr</td>\n",
       "      <td>7</td>\n",
       "    </tr>\n",
       "    <tr>\n",
       "      <th>44</th>\n",
       "      <td>joseagustin.fernandezaramburugonzalez</td>\n",
       "      <td>7</td>\n",
       "    </tr>\n",
       "    <tr>\n",
       "      <th>45</th>\n",
       "      <td>414280728767306</td>\n",
       "      <td>7</td>\n",
       "    </tr>\n",
       "    <tr>\n",
       "      <th>46</th>\n",
       "      <td>100062205951846</td>\n",
       "      <td>7</td>\n",
       "    </tr>\n",
       "    <tr>\n",
       "      <th>47</th>\n",
       "      <td>400138283655842</td>\n",
       "      <td>7</td>\n",
       "    </tr>\n",
       "    <tr>\n",
       "      <th>48</th>\n",
       "      <td>SinMiedoRadio</td>\n",
       "      <td>7</td>\n",
       "    </tr>\n",
       "    <tr>\n",
       "      <th>49</th>\n",
       "      <td>scott.thurmer.3</td>\n",
       "      <td>6</td>\n",
       "    </tr>\n",
       "  </tbody>\n",
       "</table>\n",
       "</div>"
      ],
      "text/plain": [
       "                                   source  weight\n",
       "0                       RealAmericasVoice      43\n",
       "1                                 newsmax      43\n",
       "2                          DonaldJTrumpJr      31\n",
       "3                    MarjorieTaylorGreene      27\n",
       "4                               Breitbart      24\n",
       "5                          Conservativity      24\n",
       "6                              DMLNewsApp      24\n",
       "7                            bennyjohnson      23\n",
       "8                             dan.bongino      23\n",
       "9                                 FoxNews      22\n",
       "10                      terrencekwilliams      20\n",
       "11                        141991342558232      20\n",
       "12                           DSouzaDinesh      19\n",
       "13                        turningpointusa      19\n",
       "14                             rsbnetwork      18\n",
       "15                      judgejeaninepirro      17\n",
       "16                   realstudentsfortrump      17\n",
       "17                     thesweetlewspecial      17\n",
       "18                           123192635089      17\n",
       "19           Americanvoicesthedailycaller      16\n",
       "20                                    GOP      14\n",
       "21                             JaySekulow      14\n",
       "22                youngamericasfoundation      14\n",
       "23                     officialbenshapiro      14\n",
       "24                            themarkkaye      14\n",
       "25                                 events      13\n",
       "26                        realCharlieKirk      11\n",
       "27                       1167467090082059      11\n",
       "28                            kirkcameron      10\n",
       "29                            PatriotPost       9\n",
       "30                            OscarElBlue       9\n",
       "31                                RSC.GOP       8\n",
       "32                            51052893175       8\n",
       "33                              yaliberty       8\n",
       "34                 mayrafloresforcongress       8\n",
       "35                       RepKevinMcCarthy       8\n",
       "36                            DailyCaller       8\n",
       "37                          DrScottJensen       7\n",
       "38                        ben.stolen.7906       7\n",
       "39                           TheFirstonTV       7\n",
       "40                        111677527294728       7\n",
       "41                             BlazeMedia       7\n",
       "42                              GlennBeck       7\n",
       "43                         DavidJHarrisJr       7\n",
       "44  joseagustin.fernandezaramburugonzalez       7\n",
       "45                        414280728767306       7\n",
       "46                        100062205951846       7\n",
       "47                        400138283655842       7\n",
       "48                          SinMiedoRadio       7\n",
       "49                        scott.thurmer.3       6"
      ]
     },
     "execution_count": 66,
     "metadata": {},
     "output_type": "execute_result"
    }
   ],
   "source": [
    "gop_community_influencers = gop_community_weight.groupby('source').sum().sort_values(by='weight', ascending=False).head(50)\n",
    "gop_community_influencers = pd.DataFrame(gop_community_influencers).reset_index()\n",
    "gop_community_influencers"
   ]
  },
  {
   "cell_type": "markdown",
   "metadata": {},
   "source": [
    "That's it! \n",
    "\n",
    "Now it's ripe for visualization purposes (e.g. a very basic graph):"
   ]
  },
  {
   "cell_type": "code",
   "execution_count": 71,
   "metadata": {},
   "outputs": [
    {
     "data": {
      "text/plain": [
       "<matplotlib.legend.Legend at 0x7f9231af3610>"
      ]
     },
     "execution_count": 71,
     "metadata": {},
     "output_type": "execute_result"
    },
    {
     "data": {
      "image/png": "[encoded data removed]",
      "text/plain": [
       "<Figure size 432x288 with 1 Axes>"
      ]
     },
     "metadata": {
      "needs_background": "light"
     },
     "output_type": "display_data"
    }
   ],
   "source": [
    "fig, ax = plt.subplots()\n",
    "top_20 = gop_community_influencers.head(20)\n",
    "top_20.plot.barh(x='source', y='weight', color='r', ax=ax).invert_yaxis()\n",
    "ax.legend([\"weight\"])"
   ]
  },
  {
   "cell_type": "markdown",
   "metadata": {},
   "source": [
    "And you could now store this data in a database (appending a new column that includes the specific date it was collected) or export it to a CSV file to enable longitudinal analysis week over week.\n",
    "\n",
    "BONUS: \n",
    "\n",
    "If you wanted to track actual content shared by these influential sources on a regular basis, you could prep it for batch upload:"
   ]
  },
  {
   "cell_type": "code",
   "execution_count": 67,
   "metadata": {},
   "outputs": [],
   "source": [
    "def prep_batch_influencers(data, listname):\n",
    "    data['List'] = listname\n",
    "    data['source'] = data['source'].astype(str)\n",
    "    data['Page or Account URL'] = \"https://www.facebook.com/\" + data['source']\n",
    "    data = data[['Page or Account URL', 'List']] \n",
    "    return data\n",
    "\n",
    "influential_pages = prep_batch_influencers(gop_community_influencers, listname='GOP Influential Pages')\n",
    "influential_pages.to_csv(\"influential pages.csv\", index=False)"
   ]
  }
 ],
 "metadata": {
  "kernelspec": {
   "display_name": "Python 3",
   "language": "python",
   "name": "python3"
  },
  "language_info": {
   "codemirror_mode": {
    "name": "ipython",
    "version": 3
   },
   "file_extension": ".py",
   "mimetype": "text/x-python",
   "name": "python",
   "nbconvert_exporter": "python",
   "pygments_lexer": "ipython3",
   "version": "3.8.3"
  }
 },
 "nbformat": 4,
 "nbformat_minor": 4
}
