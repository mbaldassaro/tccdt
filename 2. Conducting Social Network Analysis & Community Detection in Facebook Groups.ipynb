{
 "cells": [
  {
   "cell_type": "markdown",
   "metadata": {},
   "source": [
    "### Conducting Social Network Analysis (SNA) & Community Detection in Snowball Sample Groups\n",
    "\n",
    "Social Network Analysis (SNA) consists of methods for identifying the structure -- and strength -- of relationships between nodes, i.e. Facebook pages or groups, based on interactions. When it comes to Facebook, it is particularly useful for identifying:\n",
    "\n",
    "* The degree to which Facebook pages are amplifying content from identical or common sources (news sources, other Facebook pages, each other, etc.) in a coordinated manner.\n",
    "\n",
    "* The extent to which Facebook groups are targeted with content from identical or common sources (news sources, Facebook pages, individual users, etc.).\n",
    "\n",
    "Groups that are frequently targeted with common information sources may constitute 'echo-chambers' susceptible to partisan narratives -- and disinformation that reinforces those narratives.\n",
    "\n",
    "In addition, once you have conducted an SNA, you can use Community Detection algorithms to partition networks into more discrete clusters. For example, one cluster of nodes may be frequently targeted with information from sources 'A', 'B', and 'C' while another cluster may be smaller and frequently targeted with content from sources 'D' and 'E'. This level of granularity can be helpful for identifying more niche, issue-driven sub-communities. \n",
    "\n",
    "In this example, we will examine the extent to which Republican Groups identified via snowball sample may constitute information echo-chambers and whether discrete communities can be partitioned, with a particular focus on identifying a pro-Georgia Republican community for analysis.\n",
    "\n",
    "**This script assumes you have run scripts from the Sampling Facebook Pages & Groups notebook to collect (up to) the last 10,000 posts from the \"Republican Snowball Groups\" CrowdTangle list and store those posts in a database. A dataset of 10,000 posts is a relatively small sample. It is preferable to have larger sample, but this dataset should suffice for the purposes of this example.* \n"
   ]
  },
  {
   "cell_type": "markdown",
   "metadata": {},
   "source": [
    "First, we import packages needed for script and add a database connection to retrieve posts we collected and stored from sample groups."
   ]
  },
  {
   "cell_type": "code",
   "execution_count": 260,
   "metadata": {},
   "outputs": [],
   "source": [
    "import pandas as pd\n",
    "from urllib.parse import urlsplit #,urlparse, parse_qs \n",
    "import networkx as nx\n",
    "from networkx.algorithms import community\n",
    "import matplotlib.pyplot as plt\n",
    "import pyodbc \n",
    "from sqlalchemy import create_engine\n",
    "\n",
    "#database connection:\n",
    "connection_string = 'your_database_connection_string'\n",
    "engine = create_engine(connection_string, encoding='utf8')\n",
    "db = engine.connect()"
   ]
  },
  {
   "cell_type": "markdown",
   "metadata": {},
   "source": [
    "Then we'll grab the posts from Republican groups sample we collected and stored in our database in the previous notebook."
   ]
  },
  {
   "cell_type": "code",
   "execution_count": 261,
   "metadata": {},
   "outputs": [],
   "source": [
    "repgroups_snowball = pd.read_sql_table(\"republican_groups_snowball_posts\", con=db)"
   ]
  },
  {
   "cell_type": "markdown",
   "metadata": {},
   "source": [
    "We'll create a function called 'prep_sna_group' to pre-process our data for Social Network Analysis. \n",
    "\n",
    "This script specifically uses the Facebook assigned 'platformId' of the group as the 'target' and the handle of the 'source' of posted content to the group -- this may be content that was shared from a public Facebook page or  from an inidivual Facebook account, i.e. a private Facebook user. By extracting 'sources' and 'targets', we will be able to map the degree to which groups are targeted with common sources of information.\n",
    "\n",
    "NB: The source handle - which is either a text string from the URL of a public Facebook page (e.g. joeSmith) or a numeric identifier (e.g. 987654) of a Facebook user. It is contained in the link variable and must be parsed using url splitting techniques."
   ]
  },
  {
   "cell_type": "code",
   "execution_count": 262,
   "metadata": {},
   "outputs": [],
   "source": [
    "def prep_sna_group(data):\n",
    "    #subset just key columns\n",
    "    data_sub = data[['name', 'url', 'platformId', 'subscriberCount', 'link']]\n",
    "    #remove rows where there is no link  value\n",
    "    data_sub = data_sub[pd.notnull(data_sub['link'])]\n",
    "    #remove rows where link contains 'photo.php' - there is no user id handle in those links\n",
    "    data_sub = data_sub[~data_sub['link'].str.contains(r\"photo.php\")]\n",
    "    #find + remove '/groups' in link\n",
    "    data_sub['link'] = data_sub['link'].replace(to_replace=r\"/groups\", value='', regex=True)\n",
    "    #find + remove '/photos' in link\n",
    "    data_sub['link'] = data_sub['link'].replace(to_replace=r\"/photos\", value='', regex=True)\n",
    "    #find + remove \"?\" in link \n",
    "    data_sub['link'] = data_sub['link'].replace(to_replace=r\"\\?\", value='', regex=True)\n",
    "    #find + remove \"fbid=\" in link \n",
    "    data_sub['link'] = data_sub['link'].replace(to_replace=r\"fbid=\", value='', regex=True)\n",
    "    #find + remove '&\" + everything afterwards in link \n",
    "    data_sub['link'] = data_sub['link'].replace(to_replace=r\"\\&.*\", value='/', regex=True)\n",
    "    #parse cleaned up link url to separate components into different columns\n",
    "    data_sub['protocol2'], data_sub['domain2'], data_sub['path2'], data_sub['query2'], data_sub['fragment2'] = zip(*[urlsplit(i) for i in data_sub['link']])\n",
    "    #keep only rows where domain is facebook.com\n",
    "    data_sub = data_sub[data_sub['domain2'] == 'www.facebook.com']\n",
    "    #change Facebook Id value to 'target' (this is id of the group where post was shared)\n",
    "    data_sub['target'] = data_sub['platformId']\n",
    "    #change path2 value to 'source' (this is the id of the user that targeted the group)\n",
    "    data_sub['source'] = data_sub['path2'].str.extract(r'/\\s*([^\\/]*)\\s*\\/', expand=False)\n",
    "    #add column 'group' that is the same as 'Group Name'. in some functions, space btwn Group and Name causes probs\n",
    "    data_sub['group'] = data_sub['name']\n",
    "    #remove any rows where 'source' is null -- probably caused by  find + remove error...to be examined \n",
    "    data_sub = data_sub[pd.notnull(data_sub['source'])].reset_index(drop=True)\n",
    "    #return the final cleaned table\n",
    "    return data_sub"
   ]
  },
  {
   "cell_type": "markdown",
   "metadata": {},
   "source": [
    "We pass the posts data to our prep_sna_group function to obtain the 'targets' (groups) and 'sources'"
   ]
  },
  {
   "cell_type": "code",
   "execution_count": 263,
   "metadata": {},
   "outputs": [],
   "source": [
    "repgroups_pairs = prep_sna_group(repgroups_snowball) "
   ]
  },
  {
   "cell_type": "markdown",
   "metadata": {},
   "source": [
    "We subset the data to get just three columns of interest: name, target and source. \n",
    "The name is the group (name) which corresponds to the target, which is merely a numerical identifier. Extracting the name of the group is useful for adding labels to our SNA graph. \n",
    "As mentioned previously, the source is the handle (text string or numeric identifier) of the original content provider for the post. \n",
    "Also, to make sure the data is clean for social network analysis purposes, remove any rows where the source is null. "
   ]
  },
  {
   "cell_type": "code",
   "execution_count": 264,
   "metadata": {},
   "outputs": [],
   "source": [
    "repgroups_pairs = repgroups_pairs[['name','target','source']]\n",
    "repgroups_pairs = repgroups_pairs[pd.notnull(repgroups_pairs['source'])]"
   ]
  },
  {
   "cell_type": "markdown",
   "metadata": {},
   "source": [
    "We'll delete any rows where the source and the target are identical. \n",
    "NB: this is not relevant when conducting SNAs on groups data since a group cannot act as a 'user' (a group is merely a space for users to post), but it is relevant for pages, i.e. when a user re-shares an earlier post or photo from his / her own timeline. Thus we leave it here for demonstration purposes to show how it can be done. "
   ]
  },
  {
   "cell_type": "code",
   "execution_count": 265,
   "metadata": {},
   "outputs": [],
   "source": [
    "repgroups_index = repgroups_pairs[repgroups_pairs['target'] == repgroups_pairs['source']].index\n",
    "repgroups_pairs.drop(repgroups_index, inplace=True)"
   ]
  },
  {
   "cell_type": "markdown",
   "metadata": {},
   "source": [
    "One measure of strength of relationships between sources and targets is the frequency with which a given source posts to a target -- this is the 'weight' of the relationship. We calculate it here as a last pre-processing step before passing the data to a graph object for visualization purposes.  "
   ]
  },
  {
   "cell_type": "code",
   "execution_count": 306,
   "metadata": {},
   "outputs": [],
   "source": [
    "repgroups_weight = pd.DataFrame(repgroups_pairs.groupby(['name', 'target', 'source']).size().reset_index())\n",
    "repgroups_weight = repgroups_weight.rename(columns={0: 'weight'}).reset_index(drop=True)\n",
    "repgroups_weight = repgroups_weight.sort_values(by='weight', ascending=False).reset_index(drop=True)"
   ]
  },
  {
   "cell_type": "markdown",
   "metadata": {},
   "source": [
    "We can take a peek at the most prominent information sources posted across all group posts in our snowball sample. This provides us a sense of which sources are "
   ]
  },
  {
   "cell_type": "code",
   "execution_count": 400,
   "metadata": {},
   "outputs": [
    {
     "data": {
      "text/html": [
       "<div>\n",
       "<style scoped>\n",
       "    .dataframe tbody tr th:only-of-type {\n",
       "        vertical-align: middle;\n",
       "    }\n",
       "\n",
       "    .dataframe tbody tr th {\n",
       "        vertical-align: top;\n",
       "    }\n",
       "\n",
       "    .dataframe thead th {\n",
       "        text-align: right;\n",
       "    }\n",
       "</style>\n",
       "<table border=\"1\" class=\"dataframe\">\n",
       "  <thead>\n",
       "    <tr style=\"text-align: right;\">\n",
       "      <th></th>\n",
       "      <th>weight</th>\n",
       "    </tr>\n",
       "    <tr>\n",
       "      <th>source</th>\n",
       "      <th></th>\n",
       "    </tr>\n",
       "  </thead>\n",
       "  <tbody>\n",
       "    <tr>\n",
       "      <th>DonaldTrump</th>\n",
       "      <td>85</td>\n",
       "    </tr>\n",
       "    <tr>\n",
       "      <th>events</th>\n",
       "      <td>69</td>\n",
       "    </tr>\n",
       "    <tr>\n",
       "      <th>153080620724</th>\n",
       "      <td>57</td>\n",
       "    </tr>\n",
       "    <tr>\n",
       "      <th>rightsidebroadcasting</th>\n",
       "      <td>24</td>\n",
       "    </tr>\n",
       "    <tr>\n",
       "      <th>141991342558232</th>\n",
       "      <td>23</td>\n",
       "    </tr>\n",
       "    <tr>\n",
       "      <th>Breitbart</th>\n",
       "      <td>20</td>\n",
       "    </tr>\n",
       "    <tr>\n",
       "      <th>calltoactivism</th>\n",
       "      <td>19</td>\n",
       "    </tr>\n",
       "    <tr>\n",
       "      <th>104732037951201</th>\n",
       "      <td>19</td>\n",
       "    </tr>\n",
       "    <tr>\n",
       "      <th>perduesenate</th>\n",
       "      <td>16</td>\n",
       "    </tr>\n",
       "    <tr>\n",
       "      <th>donotconcede2020</th>\n",
       "      <td>14</td>\n",
       "    </tr>\n",
       "    <tr>\n",
       "      <th>officialteamtrump</th>\n",
       "      <td>13</td>\n",
       "    </tr>\n",
       "    <tr>\n",
       "      <th>KellyLoefflerGA</th>\n",
       "      <td>13</td>\n",
       "    </tr>\n",
       "    <tr>\n",
       "      <th>RealBrigitteGabriel</th>\n",
       "      <td>12</td>\n",
       "    </tr>\n",
       "    <tr>\n",
       "      <th>MarjorieTaylorGreene</th>\n",
       "      <td>12</td>\n",
       "    </tr>\n",
       "    <tr>\n",
       "      <th>FoxNews</th>\n",
       "      <td>12</td>\n",
       "    </tr>\n",
       "    <tr>\n",
       "      <th>FLOTUS</th>\n",
       "      <td>12</td>\n",
       "    </tr>\n",
       "    <tr>\n",
       "      <th>DonaldJTrumpJr</th>\n",
       "      <td>11</td>\n",
       "    </tr>\n",
       "    <tr>\n",
       "      <th>realstudentsfortrump</th>\n",
       "      <td>11</td>\n",
       "    </tr>\n",
       "    <tr>\n",
       "      <th>100028010709134</th>\n",
       "      <td>10</td>\n",
       "    </tr>\n",
       "    <tr>\n",
       "      <th>DanScavino</th>\n",
       "      <td>10</td>\n",
       "    </tr>\n",
       "  </tbody>\n",
       "</table>\n",
       "</div>"
      ],
      "text/plain": [
       "                       weight\n",
       "source                       \n",
       "DonaldTrump                85\n",
       "events                     69\n",
       "153080620724               57\n",
       "rightsidebroadcasting      24\n",
       "141991342558232            23\n",
       "Breitbart                  20\n",
       "calltoactivism             19\n",
       "104732037951201            19\n",
       "perduesenate               16\n",
       "donotconcede2020           14\n",
       "officialteamtrump          13\n",
       "KellyLoefflerGA            13\n",
       "RealBrigitteGabriel        12\n",
       "MarjorieTaylorGreene       12\n",
       "FoxNews                    12\n",
       "FLOTUS                     12\n",
       "DonaldJTrumpJr             11\n",
       "realstudentsfortrump       11\n",
       "100028010709134            10\n",
       "DanScavino                 10"
      ]
     },
     "execution_count": 400,
     "metadata": {},
     "output_type": "execute_result"
    }
   ],
   "source": [
    "repgroups_weight.groupby('source').sum().sort_values(by='weight', ascending=False).head(20)"
   ]
  },
  {
   "cell_type": "markdown",
   "metadata": {},
   "source": [
    "In this sample, it appears that the Facebook page of Donald Trump is the most common source of content across our groups. Other sources such as the Facebook pages of Breitbart, Fox News and candidates David Perdue and Kelly Loeffler feature prominently. Other notable sources of content include the Facebook pages of newly-elected Congresswoman Marjorie Taylor Greene and a page called Do Not Concede 2020: https://www.facebook.com/donotconcede2020/."
   ]
  },
  {
   "cell_type": "markdown",
   "metadata": {},
   "source": [
    "To facilitate graph visualization, we'll remove any sources that appear only once across the entire dataset, i.e. content has been posted from the source just one time across all groups. \n",
    "We'll also remove any 'weak' relationships, i.e. where a content from a given source has only been posted one time to one group. "
   ]
  },
  {
   "cell_type": "code",
   "execution_count": 401,
   "metadata": {},
   "outputs": [],
   "source": [
    "repgroups_weight_net = repgroups_weight[repgroups_weight['source'].isin(repgroups_weight['source'].value_counts()[repgroups_weight['source'].value_counts() > 1].index)]\n",
    "repgroups_weight_net = repgroups_weight[repgroups_weight['weight'] > 1]"
   ]
  },
  {
   "cell_type": "markdown",
   "metadata": {},
   "source": [
    "To make the graph more readable, we'll extract the group names and source handles and store them in Python dictionary objects. We'll use the groups dictionary to display group names on our graph (we likely won't use the user handles since there are likely too many to be display legibly on the graph)."
   ]
  },
  {
   "cell_type": "code",
   "execution_count": 366,
   "metadata": {},
   "outputs": [],
   "source": [
    "groups = list(repgroups_weight_net['name'].unique())\n",
    "shared = list(repgroups_weight_net['source'].unique())\n",
    "node_labels = dict(zip(groups, groups))\n",
    "shared_labels = dict(zip(shared, shared))"
   ]
  },
  {
   "cell_type": "markdown",
   "metadata": {},
   "source": [
    "Now we'll convert our data - weighted by relationship between target and source - into graph object named 'G'. \n",
    "\n",
    "We'll use a \"spring_layout\" graph visualization to help make the visualization as readable as possible. \n",
    "\n",
    "NB: Rendering SNA graphs is part art and part science: there are many layout options that can be tested to produce readable graph visualizations https://networkx.org/documentation/stable//reference/drawing.html. In this case, we use the \"spring_layout\" and the 'k' value controls the distance (spacing) between the nodes in the social network graph and varies between 0 and 1. G.order() returns the number of nodes in the graph. This variable can be tinkered with for node spacing for aesthetic purposes - examples of other layouts are included here but commented out (remove the # before the layout object to try different visualization options). "
   ]
  },
  {
   "cell_type": "code",
   "execution_count": 441,
   "metadata": {},
   "outputs": [],
   "source": [
    "G = nx.from_pandas_edgelist(repgroups_weight_net, source='source', target='name', edge_attr=True)\n",
    "layout = nx.spring_layout(G, k=10/G.order())\n",
    "#layout = nx.kamada_kawai_layout(G)\n",
    "#layout = nx.fruchterman_reingold_layout(G, k=1/G.order())\n",
    "#layout = nx.spiral_layout(G)"
   ]
  },
  {
   "cell_type": "markdown",
   "metadata": {},
   "source": [
    "We'll get the degree centrality of groups in the network. Degree centrality is one measure of importance of nodes in a social network. In this case, a group that is targeted with many sources of information would have a high degree of centrality (in other words, a highly active group that is highly targeted). Degree centrality here will be illustrated by the size and color of the target group nodes.  \n",
    "<br />\n",
    "NB: Degree centrality is not a flawless measure of \"importance\" of a group in a networks. Other measures could reasonably be used -- such as the number of members in a group. However a group with many members may not be that important if it is not very active."
   ]
  },
  {
   "cell_type": "code",
   "execution_count": 442,
   "metadata": {},
   "outputs": [],
   "source": [
    "dc = nx.degree_centrality(G)\n",
    "hi_degree_targets = [k for k, v in dc.items() if k in groups and v > 0.03]\n",
    "node_labels_top = dict(zip(hi_degree_targets, hi_degree_targets))\n",
    "#color based on degree size leveraging nx spectrum\n",
    "node_color = [20000.0 * G.degree(v) for v in G]\n",
    "#same with size\n",
    "node_size =  [v * 10000 for v in dc.values()]"
   ]
  },
  {
   "cell_type": "markdown",
   "metadata": {},
   "source": [
    "Now we'll visualize the SNA graph. The graph illustrates the extent to which groups are targeted with common sources of information. Specifically, the closer the groups are clustered together on the graph, the more they are targeted with common information sources. The futher apart, the more distinct the content sources. \n",
    "\n",
    "NB: NetworkX is not optimal for graph visualization (i.e. the graphs are not always pretty and readable) however it is useful for exploratory purposes. If you are interested in creating beautiful and professional-looking SNA graphs, you can export your network 'G' to a .gexf file that can be uploaded to the open-source graph visualization platform Gephi with the following code: nx.write_gexf(G, \"repgroups_weight_net.gexf\")"
   ]
  },
  {
   "cell_type": "code",
   "execution_count": 443,
   "metadata": {},
   "outputs": [
    {
     "data": {
      "image/png": "[encoded data removed]",
      "text/plain": [
       "<Figure size 1800x1800 with 1 Axes>"
      ]
     },
     "metadata": {},
     "output_type": "display_data"
    }
   ],
   "source": [
    "#set plotting area \n",
    "fig = plt.figure(figsize=(25,25))\n",
    "#plot nodes & edges\n",
    "nx.draw_networkx_nodes(G, layout, node_size=node_size, node_color=node_color)\n",
    "nx.draw_networkx_edges(G, layout, width=1, alpha=0.5, edge_color='gray', style='dashed')\n",
    "#add labels for just the high degree targets\n",
    "nx.draw_networkx_labels(G, layout, labels=node_labels_top, font_size=15)\n",
    "plt.axis('off')\n",
    "plt.show()"
   ]
  },
  {
   "cell_type": "markdown",
   "metadata": {},
   "source": [
    "At a glance, the social network graph above clearly shows one very large network cluster of groups, several of which have \"Trump\" in the group name. A smaller cluster clearly separate from the large cluster is anchored by a group named \"Georgia Democrats.\" And a handful of small clusters with no significant appear to be arrayed elsewhere on the graph, including one in the top left hand corner.\n",
    "\n",
    "NB: If you are confused by the presence of \"Georgia Democrats\": in the snowball sample, content from one of the Republican source pages must have been shared to the Georgia Democrats group, possibly with the intent to discredit, condemn or attack. Consequently, this group show ups in our SNA and, logically, form a noticeably discrete cluster in the graph."
   ]
  },
  {
   "cell_type": "markdown",
   "metadata": {},
   "source": [
    "While a social network graph is useful for depicting relationships between groups however we are interested in extracting which groups form clusters and constitute echo-chambers. To do that, we need to use a community detection algorithm to partition the network into discrete and logical communities. \n",
    "\n",
    "To facilitate graph visualization, we removed unique sources and 'weak' relationships. For our community detection algorithm, we'll create another graph object that includes all sources - common, unique, strong and weak - and then partition the communities. The results of our community detection algorithm should correspond to what we saw on the graph! "
   ]
  },
  {
   "cell_type": "code",
   "execution_count": 444,
   "metadata": {},
   "outputs": [],
   "source": [
    "G = nx.from_pandas_edgelist(repgroups_weight, source='source', target='name', edge_attr=True)\n",
    "communities_generator = community.girvan_newman(G)\n",
    "top_level_communities = next(communities_generator)\n",
    "next_level_communities = next(communities_generator)\n",
    "communities_detected = sorted(map(sorted, next_level_communities))"
   ]
  },
  {
   "cell_type": "markdown",
   "metadata": {},
   "source": [
    "Now that we created our new graph object, we'll see how many discrete, partitioned communities were found with  all targets and sources in those communities."
   ]
  },
  {
   "cell_type": "code",
   "execution_count": 445,
   "metadata": {},
   "outputs": [
    {
     "name": "stdout",
     "output_type": "stream",
     "text": [
      "0 2\n",
      "1 718\n",
      "2 43\n",
      "3 20\n",
      "4 2\n",
      "5 3\n",
      "6 2\n",
      "7 2\n"
     ]
    }
   ],
   "source": [
    "for idx, i in enumerate(communities_detected):\n",
    "    print(idx, len(i))"
   ]
  },
  {
   "cell_type": "markdown",
   "metadata": {},
   "source": [
    "Per the community detection algorithm, eight distinct communities were detected, including one large one composed of more than 700 sources and targets -- this is surely the large cluster of groups, some of which have \"Trump\" in the name, displayed on the graph. Two (much) smaller clusters have 43 and 20 sources and targets, respectively. Presumably, one of these is the cluster that appeared on the graph anchored by \"Georgia Democrats\". \n",
    "\n",
    "Communities numbered 1, 2 and 3 are significant enough that they warrant some data exploration. To extract the names of the target groups in these communities, we'll write a script that converts our communities into dataframes and matcesh the names contained in the groups with the names of groups in our original snowball data  set.  This will give us filtered datasets of posts by communities which we can use for analysis in later scripts. "
   ]
  },
  {
   "cell_type": "code",
   "execution_count": 434,
   "metadata": {},
   "outputs": [],
   "source": [
    "def community_groups(com_id):\n",
    "    temp = pd.DataFrame(communities_detected[com_id], columns=['name'])\n",
    "    temp_posts = repgroups_snowball.loc[repgroups_snowball['name'].isin(temp['name'])]\n",
    "    temp_groups = temp_posts.groupby(['name']).size().to_frame().reset_index().sort_values(by=0, ascending=False)\n",
    "    temp_groups = temp_groups.rename(columns={0: 'posts'}).reset_index(drop=True)\n",
    "    return temp_groups"
   ]
  },
  {
   "cell_type": "markdown",
   "metadata": {},
   "source": [
    "Now let's look at the groups found in community 1:"
   ]
  },
  {
   "cell_type": "code",
   "execution_count": 436,
   "metadata": {},
   "outputs": [
    {
     "data": {
      "text/html": [
       "<div>\n",
       "<style scoped>\n",
       "    .dataframe tbody tr th:only-of-type {\n",
       "        vertical-align: middle;\n",
       "    }\n",
       "\n",
       "    .dataframe tbody tr th {\n",
       "        vertical-align: top;\n",
       "    }\n",
       "\n",
       "    .dataframe thead th {\n",
       "        text-align: right;\n",
       "    }\n",
       "</style>\n",
       "<table border=\"1\" class=\"dataframe\">\n",
       "  <thead>\n",
       "    <tr style=\"text-align: right;\">\n",
       "      <th></th>\n",
       "      <th>name</th>\n",
       "      <th>posts</th>\n",
       "    </tr>\n",
       "  </thead>\n",
       "  <tbody>\n",
       "    <tr>\n",
       "      <th>0</th>\n",
       "      <td>HOLD THE LINE January 5th</td>\n",
       "      <td>1823</td>\n",
       "    </tr>\n",
       "    <tr>\n",
       "      <th>1</th>\n",
       "      <td>Flip it Red California</td>\n",
       "      <td>1785</td>\n",
       "    </tr>\n",
       "    <tr>\n",
       "      <th>2</th>\n",
       "      <td>TRUMP ~ The Next Four Years</td>\n",
       "      <td>740</td>\n",
       "    </tr>\n",
       "    <tr>\n",
       "      <th>3</th>\n",
       "      <td>The Silent Majority Group</td>\n",
       "      <td>702</td>\n",
       "    </tr>\n",
       "    <tr>\n",
       "      <th>4</th>\n",
       "      <td>THE TRUMPERS!!!</td>\n",
       "      <td>681</td>\n",
       "    </tr>\n",
       "    <tr>\n",
       "      <th>5</th>\n",
       "      <td>Trump Women Landslide 2020</td>\n",
       "      <td>615</td>\n",
       "    </tr>\n",
       "    <tr>\n",
       "      <th>6</th>\n",
       "      <td>Keep Georgia Red</td>\n",
       "      <td>536</td>\n",
       "    </tr>\n",
       "    <tr>\n",
       "      <th>7</th>\n",
       "      <td>Grassroots For Doug Collins</td>\n",
       "      <td>486</td>\n",
       "    </tr>\n",
       "    <tr>\n",
       "      <th>8</th>\n",
       "      <td>Nikki Haley for POTUS, 2024</td>\n",
       "      <td>379</td>\n",
       "    </tr>\n",
       "    <tr>\n",
       "      <th>9</th>\n",
       "      <td>Sarah Sanders Fox News Fans</td>\n",
       "      <td>216</td>\n",
       "    </tr>\n",
       "    <tr>\n",
       "      <th>10</th>\n",
       "      <td>We the People of Georgia Group</td>\n",
       "      <td>168</td>\n",
       "    </tr>\n",
       "    <tr>\n",
       "      <th>11</th>\n",
       "      <td>Friends Who Like Sean Hannity</td>\n",
       "      <td>157</td>\n",
       "    </tr>\n",
       "    <tr>\n",
       "      <th>12</th>\n",
       "      <td>Southest GA Conservatives</td>\n",
       "      <td>110</td>\n",
       "    </tr>\n",
       "    <tr>\n",
       "      <th>13</th>\n",
       "      <td>Citizens of Berrien County, Georgia</td>\n",
       "      <td>99</td>\n",
       "    </tr>\n",
       "    <tr>\n",
       "      <th>14</th>\n",
       "      <td>OfficialLatinosForTrump</td>\n",
       "      <td>99</td>\n",
       "    </tr>\n",
       "    <tr>\n",
       "      <th>15</th>\n",
       "      <td>Nationwide Support for Donald J. Trump</td>\n",
       "      <td>81</td>\n",
       "    </tr>\n",
       "    <tr>\n",
       "      <th>16</th>\n",
       "      <td>Georgians for Kelly Loeffler</td>\n",
       "      <td>80</td>\n",
       "    </tr>\n",
       "    <tr>\n",
       "      <th>17</th>\n",
       "      <td>Northwest GA Civil Defense League</td>\n",
       "      <td>72</td>\n",
       "    </tr>\n",
       "    <tr>\n",
       "      <th>18</th>\n",
       "      <td>SOUTHEAST GA BULLETIN BOARD</td>\n",
       "      <td>67</td>\n",
       "    </tr>\n",
       "    <tr>\n",
       "      <th>19</th>\n",
       "      <td>TRUMP VICTORY USA</td>\n",
       "      <td>51</td>\n",
       "    </tr>\n",
       "    <tr>\n",
       "      <th>20</th>\n",
       "      <td>Patriots For Trump</td>\n",
       "      <td>49</td>\n",
       "    </tr>\n",
       "    <tr>\n",
       "      <th>21</th>\n",
       "      <td>Australians for Donald Trump</td>\n",
       "      <td>48</td>\n",
       "    </tr>\n",
       "    <tr>\n",
       "      <th>22</th>\n",
       "      <td>Georgia Republicans United</td>\n",
       "      <td>45</td>\n",
       "    </tr>\n",
       "    <tr>\n",
       "      <th>23</th>\n",
       "      <td>Barrow County Republican Party Official FB group</td>\n",
       "      <td>34</td>\n",
       "    </tr>\n",
       "    <tr>\n",
       "      <th>24</th>\n",
       "      <td>Forty-Five 2020 Group</td>\n",
       "      <td>30</td>\n",
       "    </tr>\n",
       "    <tr>\n",
       "      <th>25</th>\n",
       "      <td>PCRW Political discussions Group</td>\n",
       "      <td>29</td>\n",
       "    </tr>\n",
       "    <tr>\n",
       "      <th>26</th>\n",
       "      <td>Republican National Hispanic Assembly - Offici...</td>\n",
       "      <td>29</td>\n",
       "    </tr>\n",
       "    <tr>\n",
       "      <th>27</th>\n",
       "      <td>Keep Cobb Conservative</td>\n",
       "      <td>21</td>\n",
       "    </tr>\n",
       "    <tr>\n",
       "      <th>28</th>\n",
       "      <td>Republicans for freedom</td>\n",
       "      <td>17</td>\n",
       "    </tr>\n",
       "    <tr>\n",
       "      <th>29</th>\n",
       "      <td>Hart County Republicans</td>\n",
       "      <td>16</td>\n",
       "    </tr>\n",
       "    <tr>\n",
       "      <th>30</th>\n",
       "      <td>Georgia’s 14th District Second Amendment Suppo...</td>\n",
       "      <td>15</td>\n",
       "    </tr>\n",
       "    <tr>\n",
       "      <th>31</th>\n",
       "      <td>Eye On 2020 Trumpers</td>\n",
       "      <td>11</td>\n",
       "    </tr>\n",
       "    <tr>\n",
       "      <th>32</th>\n",
       "      <td>Georgia Republican Party 11th Congressional Di...</td>\n",
       "      <td>2</td>\n",
       "    </tr>\n",
       "    <tr>\n",
       "      <th>33</th>\n",
       "      <td>Georgia 14th District Conservative Patriots</td>\n",
       "      <td>2</td>\n",
       "    </tr>\n",
       "  </tbody>\n",
       "</table>\n",
       "</div>"
      ],
      "text/plain": [
       "                                                 name  posts\n",
       "0                           HOLD THE LINE January 5th   1823\n",
       "1                              Flip it Red California   1785\n",
       "2                         TRUMP ~ The Next Four Years    740\n",
       "3                           The Silent Majority Group    702\n",
       "4                                     THE TRUMPERS!!!    681\n",
       "5                          Trump Women Landslide 2020    615\n",
       "6                                    Keep Georgia Red    536\n",
       "7                         Grassroots For Doug Collins    486\n",
       "8                         Nikki Haley for POTUS, 2024    379\n",
       "9                         Sarah Sanders Fox News Fans    216\n",
       "10                     We the People of Georgia Group    168\n",
       "11                      Friends Who Like Sean Hannity    157\n",
       "12                          Southest GA Conservatives    110\n",
       "13                Citizens of Berrien County, Georgia     99\n",
       "14                            OfficialLatinosForTrump     99\n",
       "15             Nationwide Support for Donald J. Trump     81\n",
       "16                       Georgians for Kelly Loeffler     80\n",
       "17                  Northwest GA Civil Defense League     72\n",
       "18                        SOUTHEAST GA BULLETIN BOARD     67\n",
       "19                                  TRUMP VICTORY USA     51\n",
       "20                                 Patriots For Trump     49\n",
       "21                       Australians for Donald Trump     48\n",
       "22                         Georgia Republicans United     45\n",
       "23   Barrow County Republican Party Official FB group     34\n",
       "24                              Forty-Five 2020 Group     30\n",
       "25                   PCRW Political discussions Group     29\n",
       "26  Republican National Hispanic Assembly - Offici...     29\n",
       "27                             Keep Cobb Conservative     21\n",
       "28                            Republicans for freedom     17\n",
       "29                            Hart County Republicans     16\n",
       "30  Georgia’s 14th District Second Amendment Suppo...     15\n",
       "31                               Eye On 2020 Trumpers     11\n",
       "32  Georgia Republican Party 11th Congressional Di...      2\n",
       "33        Georgia 14th District Conservative Patriots      2"
      ]
     },
     "execution_count": 436,
     "metadata": {},
     "output_type": "execute_result"
    }
   ],
   "source": [
    "community_groups(1)"
   ]
  },
  {
   "cell_type": "markdown",
   "metadata": {},
   "source": [
    "Just as we suspected, this community corresponds to the large cluster we saw on the graph. The cluster is a mix of pro-Trump and pro-Georgia Republican groups (and some other pro-Republican groups). \n",
    "\n",
    "Activity in this community is obviously what we want to further analyze. We'll revisit this community a little bit, but let's take a look at community 2."
   ]
  },
  {
   "cell_type": "code",
   "execution_count": 437,
   "metadata": {},
   "outputs": [
    {
     "data": {
      "text/html": [
       "<div>\n",
       "<style scoped>\n",
       "    .dataframe tbody tr th:only-of-type {\n",
       "        vertical-align: middle;\n",
       "    }\n",
       "\n",
       "    .dataframe tbody tr th {\n",
       "        vertical-align: top;\n",
       "    }\n",
       "\n",
       "    .dataframe thead th {\n",
       "        text-align: right;\n",
       "    }\n",
       "</style>\n",
       "<table border=\"1\" class=\"dataframe\">\n",
       "  <thead>\n",
       "    <tr style=\"text-align: right;\">\n",
       "      <th></th>\n",
       "      <th>name</th>\n",
       "      <th>posts</th>\n",
       "    </tr>\n",
       "  </thead>\n",
       "  <tbody>\n",
       "    <tr>\n",
       "      <th>0</th>\n",
       "      <td>Georgia Democrats</td>\n",
       "      <td>535</td>\n",
       "    </tr>\n",
       "  </tbody>\n",
       "</table>\n",
       "</div>"
      ],
      "text/plain": [
       "                name  posts\n",
       "0  Georgia Democrats    535"
      ]
     },
     "execution_count": 437,
     "metadata": {},
     "output_type": "execute_result"
    }
   ],
   "source": [
    "community_groups(2)"
   ]
  },
  {
   "cell_type": "markdown",
   "metadata": {},
   "source": [
    "The second community is clearly the small cluster of pro-Democratic groups anchored by the group 'Georgia Democrats' on the graph. It is an outlier and can be ignored for further analysis. \n",
    "\n",
    "Now let's take a look at community 3, just to see what it is. "
   ]
  },
  {
   "cell_type": "code",
   "execution_count": 446,
   "metadata": {},
   "outputs": [
    {
     "data": {
      "text/html": [
       "<div>\n",
       "<style scoped>\n",
       "    .dataframe tbody tr th:only-of-type {\n",
       "        vertical-align: middle;\n",
       "    }\n",
       "\n",
       "    .dataframe tbody tr th {\n",
       "        vertical-align: top;\n",
       "    }\n",
       "\n",
       "    .dataframe thead th {\n",
       "        text-align: right;\n",
       "    }\n",
       "</style>\n",
       "<table border=\"1\" class=\"dataframe\">\n",
       "  <thead>\n",
       "    <tr style=\"text-align: right;\">\n",
       "      <th></th>\n",
       "      <th>name</th>\n",
       "      <th>posts</th>\n",
       "    </tr>\n",
       "  </thead>\n",
       "  <tbody>\n",
       "    <tr>\n",
       "      <th>0</th>\n",
       "      <td>WAYCROSS &amp; BLACKSHEAR GA NEWS</td>\n",
       "      <td>95</td>\n",
       "    </tr>\n",
       "  </tbody>\n",
       "</table>\n",
       "</div>"
      ],
      "text/plain": [
       "                            name  posts\n",
       "0  WAYCROSS & BLACKSHEAR GA NEWS     95"
      ]
     },
     "execution_count": 446,
     "metadata": {},
     "output_type": "execute_result"
    }
   ],
   "source": [
    "community_groups(3)"
   ]
  },
  {
   "cell_type": "markdown",
   "metadata": {},
   "source": [
    "The third community is clearly another outlier. Based on the name, there is no indication that this a pro-Republican group. It appears to be a general news group for a couple of Georgia towns. Content from one of the seed pages must have been shared to this group at some point and thus it was caught in the snowball! We can take a look at some of the messages in this group to get a better sense of what is discussed in that group."
   ]
  },
  {
   "cell_type": "code",
   "execution_count": 459,
   "metadata": {},
   "outputs": [
    {
     "data": {
      "text/plain": [
       "180                                                  None\n",
       "317     Thank you to the Waycross/ware County Fire Dep...\n",
       "318     Please Report Any Disrespectful Comments Direc...\n",
       "319     My sister just called me and said someone’s wh...\n",
       "481                                                  None\n",
       "642     \"...as we near the end of a challenging year, ...\n",
       "974                                                  None\n",
       "975     So the Sheriff seems adamant in asking $45 per...\n",
       "976     SINCE THERE HAVE BEEN MANY RULE VIOLATIONS, HE...\n",
       "1358                                                 None\n",
       "Name: message, dtype: object"
      ]
     },
     "execution_count": 459,
     "metadata": {},
     "output_type": "execute_result"
    }
   ],
   "source": [
    "repgroups_snowball.loc[repgroups_snowball['name'] == 'WAYCROSS & BLACKSHEAR GA NEWS']['message'].head(10)"
   ]
  },
  {
   "cell_type": "markdown",
   "metadata": {},
   "source": [
    "(at cursory glance, the messages in this group do not appear to be overtly political)."
   ]
  },
  {
   "cell_type": "markdown",
   "metadata": {},
   "source": [
    "Let's revisit the first community and do some manual culling of this cluster to extract overtly pro-Georgia Republican groups. \n",
    "\n",
    "While the mix of groups in the first community is logical due to overlap in information sources, we want to isolate pro-Georgia Republican groups to the extent possible. We naturally assume that groups with Georgia-specific references in their names are likely more engaged in political discussions related to the January runoff election. \n",
    "\n",
    "We'll create a list of reference words to filter the groups in community one to extract as many pro-Georgia Republican groups as possible. "
   ]
  },
  {
   "cell_type": "code",
   "execution_count": 481,
   "metadata": {},
   "outputs": [
    {
     "data": {
      "text/html": [
       "<div>\n",
       "<style scoped>\n",
       "    .dataframe tbody tr th:only-of-type {\n",
       "        vertical-align: middle;\n",
       "    }\n",
       "\n",
       "    .dataframe tbody tr th {\n",
       "        vertical-align: top;\n",
       "    }\n",
       "\n",
       "    .dataframe thead th {\n",
       "        text-align: right;\n",
       "    }\n",
       "</style>\n",
       "<table border=\"1\" class=\"dataframe\">\n",
       "  <thead>\n",
       "    <tr style=\"text-align: right;\">\n",
       "      <th></th>\n",
       "      <th>name</th>\n",
       "      <th>posts</th>\n",
       "    </tr>\n",
       "  </thead>\n",
       "  <tbody>\n",
       "    <tr>\n",
       "      <th>0</th>\n",
       "      <td>HOLD THE LINE January 5th</td>\n",
       "      <td>1823</td>\n",
       "    </tr>\n",
       "    <tr>\n",
       "      <th>6</th>\n",
       "      <td>Keep Georgia Red</td>\n",
       "      <td>536</td>\n",
       "    </tr>\n",
       "    <tr>\n",
       "      <th>7</th>\n",
       "      <td>Grassroots For Doug Collins</td>\n",
       "      <td>486</td>\n",
       "    </tr>\n",
       "    <tr>\n",
       "      <th>10</th>\n",
       "      <td>We the People of Georgia Group</td>\n",
       "      <td>168</td>\n",
       "    </tr>\n",
       "    <tr>\n",
       "      <th>12</th>\n",
       "      <td>Southest GA Conservatives</td>\n",
       "      <td>110</td>\n",
       "    </tr>\n",
       "    <tr>\n",
       "      <th>13</th>\n",
       "      <td>Citizens of Berrien County, Georgia</td>\n",
       "      <td>99</td>\n",
       "    </tr>\n",
       "    <tr>\n",
       "      <th>16</th>\n",
       "      <td>Georgians for Kelly Loeffler</td>\n",
       "      <td>80</td>\n",
       "    </tr>\n",
       "    <tr>\n",
       "      <th>17</th>\n",
       "      <td>Northwest GA Civil Defense League</td>\n",
       "      <td>72</td>\n",
       "    </tr>\n",
       "    <tr>\n",
       "      <th>18</th>\n",
       "      <td>SOUTHEAST GA BULLETIN BOARD</td>\n",
       "      <td>67</td>\n",
       "    </tr>\n",
       "    <tr>\n",
       "      <th>22</th>\n",
       "      <td>Georgia Republicans United</td>\n",
       "      <td>45</td>\n",
       "    </tr>\n",
       "    <tr>\n",
       "      <th>23</th>\n",
       "      <td>Barrow County Republican Party Official FB group</td>\n",
       "      <td>34</td>\n",
       "    </tr>\n",
       "    <tr>\n",
       "      <th>27</th>\n",
       "      <td>Keep Cobb Conservative</td>\n",
       "      <td>21</td>\n",
       "    </tr>\n",
       "    <tr>\n",
       "      <th>29</th>\n",
       "      <td>Hart County Republicans</td>\n",
       "      <td>16</td>\n",
       "    </tr>\n",
       "    <tr>\n",
       "      <th>30</th>\n",
       "      <td>Georgia’s 14th District Second Amendment Suppo...</td>\n",
       "      <td>15</td>\n",
       "    </tr>\n",
       "    <tr>\n",
       "      <th>32</th>\n",
       "      <td>Georgia Republican Party 11th Congressional Di...</td>\n",
       "      <td>2</td>\n",
       "    </tr>\n",
       "    <tr>\n",
       "      <th>33</th>\n",
       "      <td>Georgia 14th District Conservative Patriots</td>\n",
       "      <td>2</td>\n",
       "    </tr>\n",
       "  </tbody>\n",
       "</table>\n",
       "</div>"
      ],
      "text/plain": [
       "                                                 name  posts\n",
       "0                           HOLD THE LINE January 5th   1823\n",
       "6                                    Keep Georgia Red    536\n",
       "7                         Grassroots For Doug Collins    486\n",
       "10                     We the People of Georgia Group    168\n",
       "12                          Southest GA Conservatives    110\n",
       "13                Citizens of Berrien County, Georgia     99\n",
       "16                       Georgians for Kelly Loeffler     80\n",
       "17                  Northwest GA Civil Defense League     72\n",
       "18                        SOUTHEAST GA BULLETIN BOARD     67\n",
       "22                         Georgia Republicans United     45\n",
       "23   Barrow County Republican Party Official FB group     34\n",
       "27                             Keep Cobb Conservative     21\n",
       "29                            Hart County Republicans     16\n",
       "30  Georgia’s 14th District Second Amendment Suppo...     15\n",
       "32  Georgia Republican Party 11th Congressional Di...      2\n",
       "33        Georgia 14th District Conservative Patriots      2"
      ]
     },
     "execution_count": 481,
     "metadata": {},
     "output_type": "execute_result"
    }
   ],
   "source": [
    "community_one = community_groups(1)\n",
    "ga_keywords = ['Georgia', 'January', 'Doug Collins', 'GA', 'Barrow', 'Cobb', 'Hart']\n",
    "georgia_republican_groups = community_one[community_one['name'].str.contains('|'.join(ga_keywords))]\n",
    "georgia_republican_groups"
   ]
  },
  {
   "cell_type": "markdown",
   "metadata": {},
   "source": [
    "This leaves us with a community of 16 pro-Georgia Republican groups within which we can analyze behavior and activity (extracting topics, analyzing sentiment, identifying news sources, etc.)"
   ]
  },
  {
   "cell_type": "markdown",
   "metadata": {},
   "source": [
    "We'll grab the group urls for these 16 pro-Georgia Republican groups from our snowball sample, prepare these 16 groups for a batch upload to CrowdTangle, and export a CSV file to be uploaded (be sure to create a list of groups named 'GA Republican Groups' before uploading the CSV file!)."
   ]
  },
  {
   "cell_type": "code",
   "execution_count": 487,
   "metadata": {},
   "outputs": [],
   "source": [
    "ga_republican_groups = repgroups_snowball[repgroups_snowball['name'].isin(georgia_republican_groups['name'])]\n",
    "\n",
    "def prep_batch_from_posts(data, atype='pages', minsize=0, listname='null'):\n",
    "    df = data\n",
    "    df = df.groupby(['name', 'url', 'accountType']).size().to_frame().reset_index().sort_values(by=0, ascending=False)\n",
    "    if atype == 'pages':\n",
    "        df1 = df.loc[((df['accountType'] == 'facebook_page') & (df[0] > minsize))]\n",
    "    else: #need to fix the else to set to 'groups' as an option -- not a big deal right now\n",
    "        df1 = df.loc[((df['accountType'] == 'facebook_group') & (df[0] > minsize))]\n",
    "    df1['List'] = listname\n",
    "    df1 = df1.rename(columns={\"url\": \"Page or Account URL\"}).reset_index(drop=True)\n",
    "    return df1[['Page or Account URL', 'List']] \n",
    "\n",
    "ga_republican_groups_batch = prep_batch_from_posts(ga_republican_groups, atype='groups', listname='GA Republican Groups')\n",
    "ga_republican_groups_batch.to_csv(\"garepgroups.csv\", index=False)"
   ]
  },
  {
   "cell_type": "markdown",
   "metadata": {},
   "source": [
    "In the next notebook, we'll grab posts from these 16 pro-Gerogia Republican groups and analyze the news sources and articles that are being shared in these 16 pro-Georgia Republican groups -- including from sources known to share false and misleading information! "
   ]
  }
 ],
 "metadata": {
  "kernelspec": {
   "display_name": "Python 3",
   "language": "python",
   "name": "python3"
  },
  "language_info": {
   "codemirror_mode": {
    "name": "ipython",
    "version": 3
   },
   "file_extension": ".py",
   "mimetype": "text/x-python",
   "name": "python",
   "nbconvert_exporter": "python",
   "pygments_lexer": "ipython3",
   "version": "3.8.3"
  }
 },
 "nbformat": 4,
 "nbformat_minor": 4
}
